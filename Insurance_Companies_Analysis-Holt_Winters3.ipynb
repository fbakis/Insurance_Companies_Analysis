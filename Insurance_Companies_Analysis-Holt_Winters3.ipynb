{
 "cells": [
  {
   "cell_type": "code",
   "execution_count": null,
   "metadata": {
    "scrolled": true
   },
   "outputs": [
    {
     "name": "stdout",
     "output_type": "stream",
     "text": [
      "        Dates  ToplamUretim\n",
      "0  2014-01-01  2.763376e+09\n",
      "1  2014-02-01  4.791207e+09\n",
      "2  2014-03-01  6.998206e+09\n",
      "3  2014-04-01  9.111547e+09\n",
      "4  2014-05-01  1.122210e+10\n",
      "5  2014-06-01  1.326931e+10\n",
      "6  2014-07-01  1.525518e+10\n",
      "7  2014-08-01  1.705984e+10\n",
      "8  2014-09-01  1.899218e+10\n",
      "9  2014-10-01  2.093941e+10\n",
      "10 2014-11-01  2.290092e+10\n",
      "11 2014-12-01  2.598955e+10\n",
      "12 2015-01-01  3.059930e+09\n",
      "13 2015-02-01  5.352779e+09\n",
      "14 2015-03-01  7.912653e+09\n",
      "15 2015-04-01  1.041897e+10\n",
      "16 2015-05-01  1.278008e+10\n",
      "17 2015-06-01  1.523876e+10\n",
      "18 2015-07-01  1.756014e+10\n",
      "19 2015-08-01  1.979540e+10\n",
      "20 2015-09-01  2.205523e+10\n",
      "21 2015-10-01  2.453026e+10\n",
      "22 2015-11-01  2.712316e+10\n",
      "23 2015-12-01  3.102590e+10\n",
      "24 2016-01-01  3.876534e+09\n",
      "25 2016-02-01  7.147224e+09\n",
      "26 2016-03-01  1.073210e+10\n",
      "27 2016-04-01  1.402768e+10\n",
      "28 2016-05-01  1.737327e+10\n",
      "29 2016-06-01  2.065970e+10\n",
      "30 2016-07-01  2.344427e+10\n",
      "31 2016-08-01  2.631633e+10\n",
      "32 2016-09-01  2.913444e+10\n",
      "33 2016-10-01  3.238063e+10\n",
      "34 2016-11-01  3.573617e+10\n",
      "35 2016-12-01  4.048680e+10\n",
      "36 2017-01-01  4.667419e+09\n",
      "37 2017-02-01  8.413640e+09\n",
      "38 2017-03-01  1.241718e+10\n",
      "39 2017-04-01  1.607803e+10\n",
      "40 2017-05-01  1.970733e+10\n",
      "41 2017-06-01  2.313575e+10\n",
      "42 2017-07-01  2.637537e+10\n",
      "43 2017-08-01  2.971679e+10\n",
      "44 2017-09-01  3.343397e+10\n",
      "45 2017-10-01  3.722444e+10\n",
      "46 2017-11-01  4.113471e+10\n",
      "47 2017-12-01  4.655469e+10\n",
      "48 2018-01-01  5.439901e+09\n",
      "49 2018-02-01  9.773758e+09\n",
      "50 2018-03-01  1.459900e+10\n",
      "51 2018-04-01  1.906895e+10\n",
      "52 2018-05-01  2.372547e+10\n",
      "53 2018-06-01  2.787657e+10\n",
      "54 2018-07-01  2.637537e+10\n",
      "55 2018-08-01  2.971679e+10\n",
      "56 2018-09-01  3.950417e+10\n",
      "57 2018-10-01  4.385560e+10\n",
      "58 2018-11-01  4.826155e+10\n",
      "59 2018-12-01  5.465358e+10\n",
      "                Sirket  SirketKodu  ToplamUretim  PazarPayi      Dates  year\n",
      "0   Allianz Sigorta AŞ      1004.0  3.863281e+08   0.139803 2014-01-01  2014\n",
      "1   Allianz Sigorta AŞ      1004.0  6.240954e+08   0.130258 2014-02-01  2014\n",
      "2   Allianz Sigorta AŞ      1004.0  9.027969e+08   0.129004 2014-03-01  2014\n",
      "3   Allianz Sigorta AŞ      1004.0  1.155588e+09   0.126827 2014-04-01  2014\n",
      "4   Allianz Sigorta AŞ      1004.0  1.419032e+09   0.126450 2014-05-01  2014\n",
      "5   Allianz Sigorta AŞ      1004.0  1.665511e+09   0.125516 2014-06-01  2014\n",
      "6   Allianz Sigorta AŞ      1004.0  1.885828e+09   0.123619 2014-07-01  2014\n",
      "7   Allianz Sigorta AŞ      1004.0  2.078163e+09   0.121816 2014-08-01  2014\n",
      "8   Allianz Sigorta AŞ      1004.0  2.305741e+09   0.121405 2014-09-01  2014\n",
      "9   Allianz Sigorta AŞ      1004.0  2.610495e+09   0.124669 2014-10-01  2014\n",
      "10  Allianz Sigorta AŞ      1004.0  2.845998e+09   0.124274 2014-11-01  2014\n",
      "11  Allianz Sigorta AŞ      1004.0  3.216182e+09   0.123749 2014-12-01  2014\n",
      "12  Allianz Sigorta AŞ      1004.0  3.782571e+08   0.123616 2015-01-01  2015\n",
      "13  Allianz Sigorta AŞ      1004.0  6.218240e+08   0.116168 2015-02-01  2015\n",
      "14  Allianz Sigorta AŞ      1004.0  9.046878e+08   0.114334 2015-03-01  2015\n",
      "15  Allianz Sigorta AŞ      1004.0  1.244728e+09   0.119467 2015-04-01  2015\n",
      "16  Allianz Sigorta AŞ      1004.0  1.537019e+09   0.120267 2015-05-01  2015\n",
      "17  Allianz Sigorta AŞ      1004.0  1.838133e+09   0.120622 2015-06-01  2015\n",
      "18  Allianz Sigorta AŞ      1004.0  2.124246e+09   0.120970 2015-07-01  2015\n",
      "19  Allianz Sigorta AŞ      1004.0  2.413630e+09   0.121929 2015-08-01  2015\n",
      "20  Allianz Sigorta AŞ      1004.0  2.714334e+09   0.123070 2015-09-01  2015\n",
      "21  Allianz Sigorta AŞ      1004.0  3.139411e+09   0.127981 2015-10-01  2015\n",
      "22  Allianz Sigorta AŞ      1004.0  3.478088e+09   0.128233 2015-11-01  2015\n",
      "23  Allianz Sigorta AŞ      1004.0  4.050873e+09   0.130564 2015-12-01  2015\n",
      "24  Allianz Sigorta AŞ      1004.0  4.946697e+08   0.127606 2016-01-01  2016\n",
      "25  Allianz Sigorta AŞ      1004.0  8.679779e+08   0.121443 2016-02-01  2016\n",
      "26  Allianz Sigorta AŞ      1004.0  1.330992e+09   0.124020 2016-03-01  2016\n",
      "27  Allianz Sigorta AŞ      1004.0  1.793541e+09   0.127857 2016-04-01  2016\n",
      "28  Allianz Sigorta AŞ      1004.0  2.289191e+09   0.131765 2016-05-01  2016\n",
      "29  Allianz Sigorta AŞ      1004.0  2.822341e+09   0.136611 2016-06-01  2016\n",
      "30  Allianz Sigorta AŞ      1004.0  3.262754e+09   0.139171 2016-07-01  2016\n",
      "31  Allianz Sigorta AŞ      1004.0  3.692622e+09   0.140317 2016-08-01  2016\n",
      "32  Allianz Sigorta AŞ      1004.0  4.135294e+09   0.141938 2016-09-01  2016\n",
      "33  Allianz Sigorta AŞ      1004.0  4.696252e+09   0.145033 2016-10-01  2016\n",
      "34  Allianz Sigorta AŞ      1004.0  5.137947e+09   0.143774 2016-11-01  2016\n",
      "35  Allianz Sigorta AŞ      1004.0  5.775138e+09   0.142642 2016-12-01  2016\n",
      "36  Allianz Sigorta AŞ      1004.0  5.241938e+08   0.112309 2017-01-01  2017\n",
      "37  Allianz Sigorta AŞ      1004.0  9.502651e+08   0.112943 2017-02-01  2017\n",
      "38  Allianz Sigorta AŞ      1004.0  1.421382e+09   0.114469 2017-03-01  2017\n",
      "39  Allianz Sigorta AŞ      1004.0  1.788783e+09   0.111256 2017-04-01  2017\n",
      "40  Allianz Sigorta AŞ      1004.0  2.198829e+09   0.111574 2017-05-01  2017\n",
      "41  Allianz Sigorta AŞ      1004.0  2.604344e+09   0.112568 2017-06-01  2017\n",
      "42  Allianz Sigorta AŞ      1004.0  2.916179e+09   0.110564 2017-07-01  2017\n",
      "43  Allianz Sigorta AŞ      1004.0  3.244577e+09   0.109183 2017-08-01  2017\n",
      "44  Allianz Sigorta AŞ      1004.0  3.609578e+09   0.107984 2017-09-01  2017\n",
      "45  Allianz Sigorta AŞ      1004.0  4.137348e+09   0.111146 2017-10-01  2017\n",
      "46  Allianz Sigorta AŞ      1004.0  4.525746e+09   0.110023 2017-11-01  2017\n",
      "47  Allianz Sigorta AŞ      1004.0  5.134074e+09   0.110280 2017-12-01  2017\n",
      "48  Allianz Sigorta AŞ      1004.0  5.218500e+08   0.095930 2018-01-01  2018\n",
      "49  Allianz Sigorta AŞ      1004.0  9.452704e+08   0.096715 2018-02-01  2018\n",
      "50  Allianz Sigorta AŞ      1004.0  1.468685e+09   0.100602 2018-03-01  2018\n",
      "51  Allianz Sigorta AŞ      1004.0  1.953612e+09   0.102450 2018-04-01  2018\n",
      "52  Allianz Sigorta AŞ      1004.0  2.424328e+09   0.102183 2018-05-01  2018\n",
      "53  Allianz Sigorta AŞ      1004.0  2.892109e+09   0.103747 2018-06-01  2018\n",
      "54  Allianz Sigorta AŞ      1004.0  2.916179e+09   0.110564 2018-07-01  2018\n",
      "55  Allianz Sigorta AŞ      1004.0  3.244577e+09   0.109183 2018-08-01  2018\n",
      "56  Allianz Sigorta AŞ      1004.0  4.121067e+09   0.104320 2018-09-01  2018\n",
      "57  Allianz Sigorta AŞ      1004.0  4.700092e+09   0.107172 2018-10-01  2018\n",
      "58  Allianz Sigorta AŞ      1004.0  5.128053e+09   0.106255 2018-11-01  2018\n",
      "59  Allianz Sigorta AŞ      1004.0  5.809796e+09   0.106302 2018-12-01  2018\n"
     ]
    }
   ],
   "source": [
    "import pandas as pd\n",
    "import numpy as np\n",
    "import matplotlib.pyplot as plt\n",
    "import datetime as dt\n",
    "from openpyxl.workbook import Workbook\n",
    "from statsmodels.tsa.api import ExponentialSmoothing, SimpleExpSmoothing, Holt\n",
    "\n",
    "pd.set_option('display.expand_frame_repr', False)\n",
    "\n",
    "from datetime import datetime \n",
    "from dateutil.relativedelta import *\n",
    "import os.path\n",
    "df_arrays=[]\n",
    "i=0\n",
    "date=datetime.strptime('012014', \"%m%Y\").date()\n",
    "\n",
    "while True:\n",
    "  \n",
    "    file_name=r'C:\\Python_Projects\\Proje_1\\datas\\Prim_%s.xls'%(date.strftime('%m%Y'))  \n",
    "    #print(date.strftime('%m%Y'))\n",
    "    if not os.path.isfile(file_name):\n",
    "        break;\n",
    "        if date>datetime.strptime('122018', \"%m%Y\").date():\n",
    "            break\n",
    "        continue;\n",
    "    xls_file1 = pd.ExcelFile(file_name)\n",
    "    df1 = xls_file1.parse('Genel Toplam', skiprows=5)\n",
    "    df_1=df1.iloc[:,1:5]\n",
    "    new_column=pd.to_datetime(date.strftime(\"%Y-%m\"))\n",
    "    df_1_1=df_1.assign(dates= new_column)\n",
    "   \n",
    "    \n",
    "    df_1_1.columns=['Sirket','Sirket Kodu','Toplam Uretim','Pazar Payi','Dates']\n",
    "    \n",
    "    df_arrays.append(df_1_1)\n",
    "    date=date+relativedelta(months=+1)\n",
    "           \n",
    "\n",
    "\n",
    "\n",
    "result=pd.concat(df_arrays,sort=False,ignore_index=True)\n",
    "result = result.sort_values(by=['Sirket Kodu','Dates'], inplace=False)\n",
    "result.columns=['Sirket','SirketKodu','ToplamUretim','PazarPayi','Dates']\n",
    "#print(m)\n",
    "filtered_result = result.query(\"SirketKodu.notnull() and Sirket!='SEKTÖR TOPLAMI'\",engine='python')\n",
    "#filtered_result['Sirket Kodu'].values.dtype\n",
    "filtered_result1 = filtered_result.groupby('SirketKodu',group_keys=False)\n",
    "filtered_result2=filtered_result1.apply(lambda x: x.reset_index(drop=True))\n",
    "#print(filtered_result1)\n",
    "\n",
    "filtered_result2['year']=filtered_result2['Dates'].dt.year\n",
    "#filtered_result2=filtered_result2.loc[:,['ToplamUretim','year']]\n",
    "#filtered_result2['ToplamUretimNew']=filtered_result2['ToplamUretim'].astype(float)\n",
    "#print(filtered_result2)\n",
    "\n",
    "\n",
    "\n",
    "##DESCRIPTIVE STATISTICS\n",
    "filtered_result2.describe()\n",
    "#filtered_result2.mean()\n",
    "\n",
    "#Main Insurance Companies\n",
    "Allianz= filtered_result2[filtered_result2['SirketKodu']==1004]\n",
    "Anadolu = filtered_result2[filtered_result2['SirketKodu']==1005]\n",
    "Ak = filtered_result2[filtered_result2['SirketKodu']==1003]\n",
    "Axa = filtered_result2[filtered_result2['SirketKodu']==1009]\n",
    "SompoJapan = filtered_result2[filtered_result2['SirketKodu']==1035]\n",
    "\n",
    "#ALL COMPANIES TOTAL PREMIUM MEAN\n",
    "All_companies=filtered_result2.loc[:,['ToplamUretim','Dates']]\n",
    "All_companies=All_companies.groupby(All_companies['Dates'],as_index=False).sum()\n",
    "\n",
    "\n",
    "#print(filtered_result2)\n",
    "print(All_companies)\n",
    "print(Allianz)\n",
    "#print(All_companies.iloc[:,1])\n",
    "#print(Allianz.iloc[:,2])\n",
    "\n",
    "#All_companies.plot.line(x = 'year',  y = 'ToplamUretim')\n",
    "#plt.show()\n",
    "\n",
    "\n",
    "\n",
    "#HOLT WINTER'S METHOD ALLIANZ TOTAL PREMIUM\n",
    "\n",
    "ets_stl = ExponentialSmoothing((Allianz.iloc[:, 2]) ,seasonal_periods=12 ,trend='add', seasonal='add').fit()\n",
    "ets_stl1 = ets_stl.forecast(12)\n",
    "\n",
    "Allianz.iloc[:, 2].plot(kind=\"line\",figsize=(10,5),legend=True)\n",
    "ets_stl1.plot(kind=\"line\",figsize=(10,5),color='orange',legend=True,label='TotalPremium pred')\n",
    "plt.show()\n",
    "\n",
    "#HOLT WINTER'S METHOD ALLIANZ MARKET SHARE\n",
    "\n",
    "ets_stl = ExponentialSmoothing((Allianz.iloc[:, 3]) ,seasonal_periods=12 ,trend='add', seasonal='add').fit()\n",
    "ets_stl1 = ets_stl.forecast(12)\n",
    "\n",
    "Allianz.iloc[:, 3].plot(kind=\"line\",figsize=(10,5),legend=True)\n",
    "ets_stl1.plot(kind=\"line\",figsize=(10,5),color='orange',legend=True,label='MarketShare pred')\n",
    "plt.show()"
   ]
  },
  {
   "cell_type": "code",
   "execution_count": 4,
   "metadata": {},
   "outputs": [
    {
     "data": {
      "text/html": [
       "<div>\n",
       "<style scoped>\n",
       "    .dataframe tbody tr th:only-of-type {\n",
       "        vertical-align: middle;\n",
       "    }\n",
       "\n",
       "    .dataframe tbody tr th {\n",
       "        vertical-align: top;\n",
       "    }\n",
       "\n",
       "    .dataframe thead th {\n",
       "        text-align: right;\n",
       "    }\n",
       "</style>\n",
       "<table border=\"1\" class=\"dataframe\">\n",
       "  <thead>\n",
       "    <tr style=\"text-align: right;\">\n",
       "      <th></th>\n",
       "      <th>SirketKodu</th>\n",
       "      <th>ToplamUretim</th>\n",
       "      <th>PazarPayi</th>\n",
       "      <th>year</th>\n",
       "    </tr>\n",
       "  </thead>\n",
       "  <tbody>\n",
       "    <tr>\n",
       "      <th>count</th>\n",
       "      <td>3760.000000</td>\n",
       "      <td>3.760000e+03</td>\n",
       "      <td>3760.000000</td>\n",
       "      <td>3760.000000</td>\n",
       "    </tr>\n",
       "    <tr>\n",
       "      <th>mean</th>\n",
       "      <td>1699.415691</td>\n",
       "      <td>3.375455e+08</td>\n",
       "      <td>0.015960</td>\n",
       "      <td>2015.965957</td>\n",
       "    </tr>\n",
       "    <tr>\n",
       "      <th>std</th>\n",
       "      <td>893.769232</td>\n",
       "      <td>6.154885e+08</td>\n",
       "      <td>0.024776</td>\n",
       "      <td>1.411167</td>\n",
       "    </tr>\n",
       "    <tr>\n",
       "      <th>min</th>\n",
       "      <td>1001.000000</td>\n",
       "      <td>-1.969057e+05</td>\n",
       "      <td>-0.000032</td>\n",
       "      <td>2014.000000</td>\n",
       "    </tr>\n",
       "    <tr>\n",
       "      <th>25%</th>\n",
       "      <td>1017.000000</td>\n",
       "      <td>2.725793e+07</td>\n",
       "      <td>0.001964</td>\n",
       "      <td>2015.000000</td>\n",
       "    </tr>\n",
       "    <tr>\n",
       "      <th>50%</th>\n",
       "      <td>1036.000000</td>\n",
       "      <td>1.099959e+08</td>\n",
       "      <td>0.006447</td>\n",
       "      <td>2016.000000</td>\n",
       "    </tr>\n",
       "    <tr>\n",
       "      <th>75%</th>\n",
       "      <td>3003.000000</td>\n",
       "      <td>3.579881e+08</td>\n",
       "      <td>0.017223</td>\n",
       "      <td>2017.000000</td>\n",
       "    </tr>\n",
       "    <tr>\n",
       "      <th>max</th>\n",
       "      <td>3019.000000</td>\n",
       "      <td>5.809796e+09</td>\n",
       "      <td>0.145033</td>\n",
       "      <td>2018.000000</td>\n",
       "    </tr>\n",
       "  </tbody>\n",
       "</table>\n",
       "</div>"
      ],
      "text/plain": [
       "        SirketKodu  ToplamUretim    PazarPayi         year\n",
       "count  3760.000000  3.760000e+03  3760.000000  3760.000000\n",
       "mean   1699.415691  3.375455e+08     0.015960  2015.965957\n",
       "std     893.769232  6.154885e+08     0.024776     1.411167\n",
       "min    1001.000000 -1.969057e+05    -0.000032  2014.000000\n",
       "25%    1017.000000  2.725793e+07     0.001964  2015.000000\n",
       "50%    1036.000000  1.099959e+08     0.006447  2016.000000\n",
       "75%    3003.000000  3.579881e+08     0.017223  2017.000000\n",
       "max    3019.000000  5.809796e+09     0.145033  2018.000000"
      ]
     },
     "execution_count": 4,
     "metadata": {},
     "output_type": "execute_result"
    }
   ],
   "source": [
    "filtered_result2.describe()\n",
    "\n"
   ]
  },
  {
   "cell_type": "code",
   "execution_count": 20,
   "metadata": {},
   "outputs": [
    {
     "name": "stdout",
     "output_type": "stream",
     "text": [
      "       SirketKodu  ToplamUretim  PazarPayi  ToplamUretimNew\n",
      "year                                                       \n",
      "2015  1718.968750  2.563193e+08   0.015625     1.698897e+08\n",
      "2016  1698.250326  3.406977e+08   0.015645     1.633451e+08\n",
      "2017  1680.073003  4.116520e+08   0.016540     2.382844e+08\n",
      "2018  1676.213894  3.584643e+08   0.016453     2.466779e+08\n"
     ]
    }
   ],
   "source": [
    "All_companies=filtered_result2.groupby(filtered_result2['year']).mean()\n",
    "print(All_companies)"
   ]
  },
  {
   "cell_type": "code",
   "execution_count": 23,
   "metadata": {},
   "outputs": [
    {
     "name": "stdout",
     "output_type": "stream",
     "text": [
      "      ToplamUretim\n",
      "year              \n",
      "2015  2.037102e+09\n",
      "2016  3.024893e+09\n",
      "2017  2.754608e+09\n",
      "2018  2.276409e+09\n",
      "                           Sirket  SirketKodu  ToplamUretim  PazarPayi      Dates  year  ToplamUretimNew\n",
      "SirketKodu                                                                                              \n",
      "1004.0     0   Allianz Sigorta AŞ      1004.0  3.782571e+08   0.123616 2015-01-01  2015        378257127\n",
      "           1   Allianz Sigorta AŞ      1004.0  6.218240e+08   0.116168 2015-02-01  2015        621823952\n",
      "           2   Allianz Sigorta AŞ      1004.0  9.046878e+08   0.114334 2015-03-01  2015        904687750\n",
      "           3   Allianz Sigorta AŞ      1004.0  1.244728e+09   0.119467 2015-04-01  2015       1244728014\n",
      "           4   Allianz Sigorta AŞ      1004.0  1.537019e+09   0.120267 2015-05-01  2015       1537018838\n",
      "           5   Allianz Sigorta AŞ      1004.0  1.838133e+09   0.120622 2015-06-01  2015       1838132721\n",
      "           6   Allianz Sigorta AŞ      1004.0  2.124246e+09   0.120970 2015-07-01  2015       2124246308\n",
      "           7   Allianz Sigorta AŞ      1004.0  2.413630e+09   0.121929 2015-08-01  2015      -2147483648\n",
      "           8   Allianz Sigorta AŞ      1004.0  2.714334e+09   0.123070 2015-09-01  2015      -2147483648\n",
      "           9   Allianz Sigorta AŞ      1004.0  3.139411e+09   0.127981 2015-10-01  2015      -2147483648\n",
      "           10  Allianz Sigorta AŞ      1004.0  3.478088e+09   0.128233 2015-11-01  2015      -2147483648\n",
      "           11  Allianz Sigorta AŞ      1004.0  4.050873e+09   0.130564 2015-12-01  2015      -2147483648\n",
      "           12  Allianz Sigorta AŞ      1004.0  4.946697e+08   0.127606 2016-01-01  2016        494669664\n",
      "           13  Allianz Sigorta AŞ      1004.0  8.679779e+08   0.121443 2016-02-01  2016        867977948\n",
      "           14  Allianz Sigorta AŞ      1004.0  1.330992e+09   0.124020 2016-03-01  2016       1330991740\n",
      "           15  Allianz Sigorta AŞ      1004.0  1.793541e+09   0.127857 2016-04-01  2016       1793540777\n",
      "           16  Allianz Sigorta AŞ      1004.0  2.289191e+09   0.131765 2016-05-01  2016      -2147483648\n",
      "           17  Allianz Sigorta AŞ      1004.0  2.822341e+09   0.136611 2016-06-01  2016      -2147483648\n",
      "           18  Allianz Sigorta AŞ      1004.0  3.262754e+09   0.139171 2016-07-01  2016      -2147483648\n",
      "           19  Allianz Sigorta AŞ      1004.0  3.692622e+09   0.140317 2016-08-01  2016      -2147483648\n",
      "           20  Allianz Sigorta AŞ      1004.0  4.135294e+09   0.141938 2016-09-01  2016      -2147483648\n",
      "           21  Allianz Sigorta AŞ      1004.0  4.696252e+09   0.145033 2016-10-01  2016      -2147483648\n",
      "           22  Allianz Sigorta AŞ      1004.0  5.137947e+09   0.143774 2016-11-01  2016      -2147483648\n",
      "           23  Allianz Sigorta AŞ      1004.0  5.775138e+09   0.142642 2016-12-01  2016      -2147483648\n",
      "           24  Allianz Sigorta AŞ      1004.0  5.241938e+08   0.112309 2017-01-01  2017        524193787\n",
      "           25  Allianz Sigorta AŞ      1004.0  9.502651e+08   0.112943 2017-02-01  2017        950265120\n",
      "           26  Allianz Sigorta AŞ      1004.0  1.421382e+09   0.114469 2017-03-01  2017       1421381561\n",
      "           27  Allianz Sigorta AŞ      1004.0  1.788783e+09   0.111256 2017-04-01  2017       1788783461\n",
      "           28  Allianz Sigorta AŞ      1004.0  2.198829e+09   0.111574 2017-05-01  2017      -2147483648\n",
      "           29  Allianz Sigorta AŞ      1004.0  2.604344e+09   0.112568 2017-06-01  2017      -2147483648\n",
      "           30  Allianz Sigorta AŞ      1004.0  2.916179e+09   0.110564 2017-07-01  2017      -2147483648\n",
      "           31  Allianz Sigorta AŞ      1004.0  3.244577e+09   0.109183 2017-08-01  2017      -2147483648\n",
      "           32  Allianz Sigorta AŞ      1004.0  3.609578e+09   0.107984 2017-09-01  2017      -2147483648\n",
      "           33  Allianz Sigorta AŞ      1004.0  4.137348e+09   0.111146 2017-10-01  2017      -2147483648\n",
      "           34  Allianz Sigorta AŞ      1004.0  4.525746e+09   0.110023 2017-11-01  2017      -2147483648\n",
      "           35  Allianz Sigorta AŞ      1004.0  5.134074e+09   0.110280 2017-12-01  2017      -2147483648\n",
      "           36  Allianz Sigorta AŞ      1004.0  5.218500e+08   0.095930 2018-01-01  2018        521849995\n",
      "           37  Allianz Sigorta AŞ      1004.0  9.452704e+08   0.096715 2018-02-01  2018        945270414\n",
      "           38  Allianz Sigorta AŞ      1004.0  1.468685e+09   0.100602 2018-03-01  2018       1468685071\n",
      "           39  Allianz Sigorta AŞ      1004.0  1.953612e+09   0.102450 2018-04-01  2018       1953611539\n",
      "           40  Allianz Sigorta AŞ      1004.0  2.424328e+09   0.102183 2018-05-01  2018      -2147483648\n",
      "           41  Allianz Sigorta AŞ      1004.0  2.892109e+09   0.103747 2018-06-01  2018      -2147483648\n",
      "           42  Allianz Sigorta AŞ      1004.0  2.916179e+09   0.110564 2018-07-01  2018      -2147483648\n",
      "           43  Allianz Sigorta AŞ      1004.0  3.244577e+09   0.109183 2018-08-01  2018      -2147483648\n",
      "           44  Allianz Sigorta AŞ      1004.0  4.121067e+09   0.104320 2018-09-01  2018      -2147483648\n"
     ]
    }
   ],
   "source": [
    "Allianz_mean=Allianz.loc[:,['ToplamUretim','year']]\n",
    "Allianz_mean=Allianz_mean.groupby(Allianz_mean['year']).mean()\n",
    "print(Allianz_mean)\n",
    "print(Allianz)"
   ]
  },
  {
   "cell_type": "code",
   "execution_count": 27,
   "metadata": {},
   "outputs": [
    {
     "name": "stdout",
     "output_type": "stream",
     "text": [
      "      ToplamUretim  year\n",
      "year                    \n",
      "2015  2.563193e+08  2015\n",
      "2016  3.406977e+08  2016\n",
      "2017  4.116520e+08  2017\n",
      "2018  3.584643e+08  2018\n"
     ]
    }
   ],
   "source": [
    "All_companies=filtered_result2.loc[:,['ToplamUretim','year']]\n",
    "All_companies=All_companies.groupby(filtered_result2['year']).mean()\n",
    "print(All_companies)"
   ]
  },
  {
   "cell_type": "code",
   "execution_count": 50,
   "metadata": {},
   "outputs": [
    {
     "name": "stdout",
     "output_type": "stream",
     "text": [
      "                                               Sirket  SirketKodu  ToplamUretim  PazarPayi      Dates\n",
      "SirketKodu                                                                                           \n",
      "1001.0     0   Ace European Group Ltd. Türkiye Şubesi      1001.0  5.558404e+06   0.001817 2015-01-01\n",
      "           1   Ace European Group Ltd. Türkiye Şubesi      1001.0  1.014411e+07   0.001895 2015-02-01\n",
      "           2   Ace European Group Ltd. Türkiye Şubesi      1001.0  1.794620e+07   0.002268 2015-03-01\n",
      "           3   Ace European Group Ltd. Türkiye Şubesi      1001.0  2.839670e+07   0.002725 2015-04-01\n",
      "           4   Ace European Group Ltd. Türkiye Şubesi      1001.0  3.588368e+07   0.002808 2015-05-01\n",
      "           5   Ace European Group Ltd. Türkiye Şubesi      1001.0  4.283985e+07   0.002811 2015-06-01\n",
      "           6   Ace European Group Ltd. Türkiye Şubesi      1001.0  5.001665e+07   0.002848 2015-07-01\n",
      "           7   Ace European Group Ltd. Türkiye Şubesi      1001.0  5.743376e+07   0.002901 2015-08-01\n",
      "           8   Ace European Group Ltd. Türkiye Şubesi      1001.0  6.688203e+07   0.003032 2015-09-01\n",
      "           9   Ace European Group Ltd. Türkiye Şubesi      1001.0  7.758493e+07   0.003163 2015-10-01\n",
      "           10  Ace European Group Ltd. Türkiye Şubesi      1001.0  8.844669e+07   0.003261 2015-11-01\n",
      "           11  Ace European Group Ltd. Türkiye Şubesi      1001.0  9.472269e+07   0.003053 2015-12-01\n",
      "           12  Ace European Group Ltd. Türkiye Şubesi      1001.0  1.001106e+07   0.002582 2016-01-01\n",
      "           13  Ace European Group Ltd. Türkiye Şubesi      1001.0  1.793844e+07   0.002510 2016-02-01\n",
      "           14  Ace European Group Ltd. Türkiye Şubesi      1001.0  2.743146e+07   0.002556 2016-03-01\n",
      "           15  Ace European Group Ltd. Türkiye Şubesi      1001.0  3.909928e+07   0.002787 2016-04-01\n",
      "           16  Ace European Group Ltd. Türkiye Şubesi      1001.0  4.777857e+07   0.002750 2016-05-01\n",
      "           17  Ace European Group Ltd. Türkiye Şubesi      1001.0  5.735242e+07   0.002776 2016-06-01\n",
      "           18  Ace European Group Ltd. Türkiye Şubesi      1001.0  6.891993e+07   0.002940 2016-07-01\n",
      "           19  Ace European Group Ltd. Türkiye Şubesi      1001.0  7.554303e+07   0.002871 2016-08-01\n",
      "           20  Ace European Group Ltd. Türkiye Şubesi      1001.0  8.196123e+07   0.002813 2016-09-01\n",
      "           21  Ace European Group Ltd. Türkiye Şubesi      1001.0  9.127206e+07   0.002819 2016-10-01\n",
      "           22  Ace European Group Ltd. Türkiye Şubesi      1001.0  1.041303e+08   0.002914 2016-11-01\n",
      "           23  Ace European Group Ltd. Türkiye Şubesi      1001.0  1.150447e+08   0.002842 2016-12-01\n",
      "           24  Ace European Group Ltd. Türkiye Şubesi      1001.0  1.799225e+07   0.003855 2017-01-01\n",
      "           25  Ace European Group Ltd. Türkiye Şubesi      1001.0  3.134596e+07   0.003726 2017-02-01\n",
      "           26  Ace European Group Ltd. Türkiye Şubesi      1001.0  5.033217e+07   0.004053 2017-03-01\n",
      "           27  Ace European Group Ltd. Türkiye Şubesi      1001.0  6.564449e+07   0.004083 2017-04-01\n",
      "           28  Ace European Group Ltd. Türkiye Şubesi      1001.0  8.001866e+07   0.004060 2017-05-01\n",
      "           29  Ace European Group Ltd. Türkiye Şubesi      1001.0  9.260242e+07   0.004003 2017-06-01\n",
      "...                                               ...         ...           ...        ...        ...\n",
      "3019.0     15            Ziraat Hayat ve Emeklilik AŞ      3019.0  2.795867e+08   0.019931 2016-04-01\n",
      "           16            Ziraat Hayat ve Emeklilik AŞ      3019.0  3.476248e+08   0.020009 2016-05-01\n",
      "           17        Ziraat Hayat ve Emeklilik AŞ (*)      3019.0  4.135817e+08   0.020019 2016-06-01\n",
      "           18            Ziraat Hayat ve Emeklilik AŞ      3019.0  4.714839e+08   0.020111 2016-07-01\n",
      "           19            Ziraat Hayat ve Emeklilik AŞ      3019.0  5.466772e+08   0.020773 2016-08-01\n",
      "           20            Ziraat Hayat ve Emeklilik AŞ      3019.0  6.458560e+08   0.022168 2016-09-01\n",
      "           21            Ziraat Hayat ve Emeklilik AŞ      3019.0  8.128031e+08   0.025102 2016-10-01\n",
      "           22            Ziraat Hayat ve Emeklilik AŞ      3019.0  9.625597e+08   0.026935 2016-11-01\n",
      "           23            Ziraat Hayat ve Emeklilik AŞ      3019.0  1.084219e+09   0.026780 2016-12-01\n",
      "           24            Ziraat Hayat ve Emeklilik AŞ      3019.0  1.333827e+08   0.028577 2017-01-01\n",
      "           25            Ziraat Hayat ve Emeklilik AŞ      3019.0  2.437390e+08   0.028970 2017-02-01\n",
      "           26            Ziraat Hayat ve Emeklilik AŞ      3019.0  3.718713e+08   0.029948 2017-03-01\n",
      "           27            Ziraat Hayat ve Emeklilik AŞ      3019.0  4.784368e+08   0.029757 2017-04-01\n",
      "           28            Ziraat Hayat ve Emeklilik AŞ      3019.0  5.988022e+08   0.030385 2017-05-01\n",
      "           29            Ziraat Hayat ve Emeklilik AŞ      3019.0  7.020020e+08   0.030343 2017-06-01\n",
      "           30            Ziraat Hayat ve Emeklilik AŞ      3019.0  8.167843e+08   0.030968 2017-07-01\n",
      "           31            Ziraat Hayat ve Emeklilik AŞ      3019.0  9.385676e+08   0.031584 2017-08-01\n",
      "           32            Ziraat Hayat ve Emeklilik AŞ      3019.0  1.048420e+09   0.031365 2017-09-01\n",
      "           33            Ziraat Hayat ve Emeklilik AŞ      3019.0  1.171002e+09   0.031458 2017-10-01\n",
      "           34            Ziraat Hayat ve Emeklilik AŞ      3019.0  1.291655e+09   0.031401 2017-11-01\n",
      "           35            Ziraat Hayat ve Emeklilik AŞ      3019.0  1.402790e+09   0.030132 2017-12-01\n",
      "           36            Ziraat Hayat ve Emeklilik AŞ      3019.0  1.421507e+08   0.026131 2018-01-01\n",
      "           37            Ziraat Hayat ve Emeklilik AŞ      3019.0  2.501189e+08   0.025591 2018-02-01\n",
      "           38            Ziraat Hayat ve Emeklilik AŞ      3019.0  3.676562e+08   0.025184 2018-03-01\n",
      "           39            Ziraat Hayat ve Emeklilik AŞ      3019.0  4.751621e+08   0.024918 2018-04-01\n",
      "           40            Ziraat Hayat ve Emeklilik AŞ      3019.0  5.887801e+08   0.024816 2018-05-01\n",
      "           41            Ziraat Hayat ve Emeklilik AŞ      3019.0  6.773792e+08   0.024299 2018-06-01\n",
      "           42            Ziraat Hayat ve Emeklilik AŞ      3019.0  8.167843e+08   0.030968 2018-07-01\n",
      "           43            Ziraat Hayat ve Emeklilik AŞ      3019.0  9.385676e+08   0.031584 2018-08-01\n",
      "           44            Ziraat Hayat ve Emeklilik AŞ      3019.0  1.007400e+09   0.025501 2018-09-01\n",
      "\n",
      "[2808 rows x 5 columns]\n",
      "(1001.0, 1)\n"
     ]
    }
   ],
   "source": [
    "filtered_result2=filtered_result1.apply(lambda x: x.reset_index(drop=True))\n",
    "print(filtered_result2)\n",
    "filtered_result2.loc[filtered_result2.index[0], 'Sirket']\n",
    "print(filtered_result2.index[1])"
   ]
  },
  {
   "cell_type": "code",
   "execution_count": 4,
   "metadata": {},
   "outputs": [
    {
     "ename": "NameError",
     "evalue": "name 'year' is not defined",
     "output_type": "error",
     "traceback": [
      "\u001b[1;31m---------------------------------------------------------------------------\u001b[0m",
      "\u001b[1;31mNameError\u001b[0m                                 Traceback (most recent call last)",
      "\u001b[1;32m<ipython-input-4-918146dcca30>\u001b[0m in \u001b[0;36m<module>\u001b[1;34m\u001b[0m\n\u001b[1;32m----> 1\u001b[1;33m \u001b[0mAllianz_mean\u001b[0m\u001b[1;33m.\u001b[0m\u001b[0mcolumns\u001b[0m \u001b[1;33m=\u001b[0m \u001b[0myear\u001b[0m\u001b[1;33m.\u001b[0m\u001b[0mastype\u001b[0m\u001b[1;33m(\u001b[0m\u001b[0mint\u001b[0m\u001b[1;33m)\u001b[0m\u001b[1;33m\u001b[0m\u001b[1;33m\u001b[0m\u001b[0m\n\u001b[0m\u001b[0;32m      2\u001b[0m \u001b[0mprint\u001b[0m\u001b[1;33m(\u001b[0m\u001b[0mAllianz_mean\u001b[0m\u001b[1;33m)\u001b[0m\u001b[1;33m\u001b[0m\u001b[1;33m\u001b[0m\u001b[0m\n",
      "\u001b[1;31mNameError\u001b[0m: name 'year' is not defined"
     ]
    }
   ],
   "source": [
    "Allianz_mean.columns = year.astype(int)\n",
    "print(Allianz_mean)"
   ]
  },
  {
   "cell_type": "code",
   "execution_count": 10,
   "metadata": {},
   "outputs": [
    {
     "name": "stdout",
     "output_type": "stream",
     "text": [
      "SirketKodu    \n",
      "1004.0      0     2015\n",
      "            1     2015\n",
      "            2     2015\n",
      "            3     2015\n",
      "            4     2015\n",
      "            5     2015\n",
      "            6     2015\n",
      "            7     2015\n",
      "            8     2015\n",
      "            9     2015\n",
      "            10    2015\n",
      "            11    2015\n",
      "            12    2016\n",
      "            13    2016\n",
      "            14    2016\n",
      "            15    2016\n",
      "            16    2016\n",
      "            17    2016\n",
      "            18    2016\n",
      "            19    2016\n",
      "            20    2016\n",
      "            21    2016\n",
      "            22    2016\n",
      "            23    2016\n",
      "            24    2017\n",
      "            25    2017\n",
      "            26    2017\n",
      "            27    2017\n",
      "            28    2017\n",
      "            29    2017\n",
      "            30    2017\n",
      "            31    2017\n",
      "            32    2017\n",
      "            33    2017\n",
      "            34    2017\n",
      "            35    2017\n",
      "            36    2018\n",
      "            37    2018\n",
      "            38    2018\n",
      "            39    2018\n",
      "            40    2018\n",
      "            41    2018\n",
      "            42    2018\n",
      "            43    2018\n",
      "            44    2018\n",
      "Name: year, dtype: int64\n"
     ]
    },
    {
     "data": {
      "text/plain": [
       "[<matplotlib.lines.Line2D at 0x14fb5358>]"
      ]
     },
     "execution_count": 10,
     "metadata": {},
     "output_type": "execute_result"
    },
    {
     "data": {
      "image/png": "[encoded data removed]",
      "text/plain": [
       "<Figure size 432x288 with 1 Axes>"
      ]
     },
     "metadata": {
      "needs_background": "light"
     },
     "output_type": "display_data"
    }
   ],
   "source": [
    "Allianz_mean=Allianz.loc[:,['ToplamUretim','year']]\n",
    "#Allianz_mean=Allianz_mean.groupby(Allianz_mean['year']).mean()\n",
    "#Allianz_mean.columns=year.astype(int)\n",
    "print(Allianz_mean['year'])\n",
    "x=Allianz_mean['year']\n",
    "y=Allianz_mean['ToplamUretim']\n",
    "plt.plot(x,y)"
   ]
  },
  {
   "cell_type": "code",
   "execution_count": 13,
   "metadata": {},
   "outputs": [
    {
     "name": "stdout",
     "output_type": "stream",
     "text": [
      "                                               Sirket  SirketKodu  ToplamUretim  PazarPayi      Dates  year  ToplamUretimNew\n",
      "SirketKodu                                                                                                                  \n",
      "1001.0     0   Ace European Group Ltd. Türkiye Şubesi      1001.0  5.558404e+06   0.001817 2015-01-01  2015     5.558404e+06\n",
      "           1   Ace European Group Ltd. Türkiye Şubesi      1001.0  1.014411e+07   0.001895 2015-02-01  2015     1.014411e+07\n",
      "           2   Ace European Group Ltd. Türkiye Şubesi      1001.0  1.794620e+07   0.002268 2015-03-01  2015     1.794620e+07\n",
      "           3   Ace European Group Ltd. Türkiye Şubesi      1001.0  2.839670e+07   0.002725 2015-04-01  2015     2.839670e+07\n",
      "           4   Ace European Group Ltd. Türkiye Şubesi      1001.0  3.588368e+07   0.002808 2015-05-01  2015     3.588368e+07\n",
      "           5   Ace European Group Ltd. Türkiye Şubesi      1001.0  4.283985e+07   0.002811 2015-06-01  2015     4.283985e+07\n",
      "           6   Ace European Group Ltd. Türkiye Şubesi      1001.0  5.001665e+07   0.002848 2015-07-01  2015     5.001665e+07\n",
      "           7   Ace European Group Ltd. Türkiye Şubesi      1001.0  5.743376e+07   0.002901 2015-08-01  2015     5.743376e+07\n",
      "           8   Ace European Group Ltd. Türkiye Şubesi      1001.0  6.688203e+07   0.003032 2015-09-01  2015     6.688203e+07\n",
      "           9   Ace European Group Ltd. Türkiye Şubesi      1001.0  7.758493e+07   0.003163 2015-10-01  2015     7.758493e+07\n",
      "           10  Ace European Group Ltd. Türkiye Şubesi      1001.0  8.844669e+07   0.003261 2015-11-01  2015     8.844669e+07\n",
      "           11  Ace European Group Ltd. Türkiye Şubesi      1001.0  9.472269e+07   0.003053 2015-12-01  2015     9.472269e+07\n",
      "           12  Ace European Group Ltd. Türkiye Şubesi      1001.0  1.001106e+07   0.002582 2016-01-01  2016     1.001106e+07\n",
      "           13  Ace European Group Ltd. Türkiye Şubesi      1001.0  1.793844e+07   0.002510 2016-02-01  2016     1.793844e+07\n",
      "           14  Ace European Group Ltd. Türkiye Şubesi      1001.0  2.743146e+07   0.002556 2016-03-01  2016     2.743146e+07\n",
      "           15  Ace European Group Ltd. Türkiye Şubesi      1001.0  3.909928e+07   0.002787 2016-04-01  2016     3.909928e+07\n",
      "           16  Ace European Group Ltd. Türkiye Şubesi      1001.0  4.777857e+07   0.002750 2016-05-01  2016     4.777857e+07\n",
      "           17  Ace European Group Ltd. Türkiye Şubesi      1001.0  5.735242e+07   0.002776 2016-06-01  2016     5.735242e+07\n",
      "           18  Ace European Group Ltd. Türkiye Şubesi      1001.0  6.891993e+07   0.002940 2016-07-01  2016     6.891993e+07\n",
      "           19  Ace European Group Ltd. Türkiye Şubesi      1001.0  7.554303e+07   0.002871 2016-08-01  2016     7.554303e+07\n",
      "           20  Ace European Group Ltd. Türkiye Şubesi      1001.0  8.196123e+07   0.002813 2016-09-01  2016     8.196123e+07\n",
      "           21  Ace European Group Ltd. Türkiye Şubesi      1001.0  9.127206e+07   0.002819 2016-10-01  2016     9.127206e+07\n",
      "           22  Ace European Group Ltd. Türkiye Şubesi      1001.0  1.041303e+08   0.002914 2016-11-01  2016     1.041303e+08\n",
      "           23  Ace European Group Ltd. Türkiye Şubesi      1001.0  1.150447e+08   0.002842 2016-12-01  2016     1.150447e+08\n",
      "           24  Ace European Group Ltd. Türkiye Şubesi      1001.0  1.799225e+07   0.003855 2017-01-01  2017     1.799225e+07\n",
      "           25  Ace European Group Ltd. Türkiye Şubesi      1001.0  3.134596e+07   0.003726 2017-02-01  2017     3.134596e+07\n",
      "           26  Ace European Group Ltd. Türkiye Şubesi      1001.0  5.033217e+07   0.004053 2017-03-01  2017     5.033217e+07\n",
      "           27  Ace European Group Ltd. Türkiye Şubesi      1001.0  6.564449e+07   0.004083 2017-04-01  2017     6.564449e+07\n",
      "           28  Ace European Group Ltd. Türkiye Şubesi      1001.0  8.001866e+07   0.004060 2017-05-01  2017     8.001866e+07\n",
      "           29  Ace European Group Ltd. Türkiye Şubesi      1001.0  9.260242e+07   0.004003 2017-06-01  2017     9.260242e+07\n",
      "...                                               ...         ...           ...        ...        ...   ...              ...\n",
      "3019.0     15            Ziraat Hayat ve Emeklilik AŞ      3019.0  2.795867e+08   0.019931 2016-04-01  2016     2.795867e+08\n",
      "           16            Ziraat Hayat ve Emeklilik AŞ      3019.0  3.476248e+08   0.020009 2016-05-01  2016     3.476248e+08\n",
      "           17        Ziraat Hayat ve Emeklilik AŞ (*)      3019.0  4.135817e+08   0.020019 2016-06-01  2016     4.135817e+08\n",
      "           18            Ziraat Hayat ve Emeklilik AŞ      3019.0  4.714839e+08   0.020111 2016-07-01  2016     4.714839e+08\n",
      "           19            Ziraat Hayat ve Emeklilik AŞ      3019.0  5.466772e+08   0.020773 2016-08-01  2016     5.466772e+08\n",
      "           20            Ziraat Hayat ve Emeklilik AŞ      3019.0  6.458560e+08   0.022168 2016-09-01  2016     6.458560e+08\n",
      "           21            Ziraat Hayat ve Emeklilik AŞ      3019.0  8.128031e+08   0.025102 2016-10-01  2016     8.128031e+08\n",
      "           22            Ziraat Hayat ve Emeklilik AŞ      3019.0  9.625597e+08   0.026935 2016-11-01  2016     9.625597e+08\n",
      "           23            Ziraat Hayat ve Emeklilik AŞ      3019.0  1.084219e+09   0.026780 2016-12-01  2016     1.084219e+09\n",
      "           24            Ziraat Hayat ve Emeklilik AŞ      3019.0  1.333827e+08   0.028577 2017-01-01  2017     1.333827e+08\n",
      "           25            Ziraat Hayat ve Emeklilik AŞ      3019.0  2.437390e+08   0.028970 2017-02-01  2017     2.437390e+08\n",
      "           26            Ziraat Hayat ve Emeklilik AŞ      3019.0  3.718713e+08   0.029948 2017-03-01  2017     3.718713e+08\n",
      "           27            Ziraat Hayat ve Emeklilik AŞ      3019.0  4.784368e+08   0.029757 2017-04-01  2017     4.784368e+08\n",
      "           28            Ziraat Hayat ve Emeklilik AŞ      3019.0  5.988022e+08   0.030385 2017-05-01  2017     5.988022e+08\n",
      "           29            Ziraat Hayat ve Emeklilik AŞ      3019.0  7.020020e+08   0.030343 2017-06-01  2017     7.020020e+08\n",
      "           30            Ziraat Hayat ve Emeklilik AŞ      3019.0  8.167843e+08   0.030968 2017-07-01  2017     8.167843e+08\n",
      "           31            Ziraat Hayat ve Emeklilik AŞ      3019.0  9.385676e+08   0.031584 2017-08-01  2017     9.385676e+08\n",
      "           32            Ziraat Hayat ve Emeklilik AŞ      3019.0  1.048420e+09   0.031365 2017-09-01  2017     1.048420e+09\n",
      "           33            Ziraat Hayat ve Emeklilik AŞ      3019.0  1.171002e+09   0.031458 2017-10-01  2017     1.171002e+09\n",
      "           34            Ziraat Hayat ve Emeklilik AŞ      3019.0  1.291655e+09   0.031401 2017-11-01  2017     1.291655e+09\n",
      "           35            Ziraat Hayat ve Emeklilik AŞ      3019.0  1.402790e+09   0.030132 2017-12-01  2017     1.402790e+09\n",
      "           36            Ziraat Hayat ve Emeklilik AŞ      3019.0  1.421507e+08   0.026131 2018-01-01  2018     1.421507e+08\n",
      "           37            Ziraat Hayat ve Emeklilik AŞ      3019.0  2.501189e+08   0.025591 2018-02-01  2018     2.501189e+08\n",
      "           38            Ziraat Hayat ve Emeklilik AŞ      3019.0  3.676562e+08   0.025184 2018-03-01  2018     3.676562e+08\n",
      "           39            Ziraat Hayat ve Emeklilik AŞ      3019.0  4.751621e+08   0.024918 2018-04-01  2018     4.751621e+08\n",
      "           40            Ziraat Hayat ve Emeklilik AŞ      3019.0  5.887801e+08   0.024816 2018-05-01  2018     5.887801e+08\n",
      "           41            Ziraat Hayat ve Emeklilik AŞ      3019.0  6.773792e+08   0.024299 2018-06-01  2018     6.773792e+08\n",
      "           42            Ziraat Hayat ve Emeklilik AŞ      3019.0  8.167843e+08   0.030968 2018-07-01  2018     8.167843e+08\n",
      "           43            Ziraat Hayat ve Emeklilik AŞ      3019.0  9.385676e+08   0.031584 2018-08-01  2018     9.385676e+08\n",
      "           44            Ziraat Hayat ve Emeklilik AŞ      3019.0  1.007400e+09   0.025501 2018-09-01  2018     1.007400e+09\n",
      "\n",
      "[2808 rows x 7 columns]\n"
     ]
    }
   ],
   "source": [
    "filtered_result2['ToplamUretimNew']=filtered_result2['ToplamUretim'].astype(float)\n",
    "print(filtered_result2)"
   ]
  },
  {
   "cell_type": "code",
   "execution_count": 6,
   "metadata": {},
   "outputs": [
    {
     "name": "stdout",
     "output_type": "stream",
     "text": [
      "      PazarPayi\n",
      "year           \n",
      "2015   0.015625\n",
      "2016   0.015645\n",
      "2017   0.016540\n",
      "2018   0.016453\n",
      "      PazarPayi\n",
      "year           \n",
      "2015   0.122269\n",
      "2016   0.135181\n",
      "2017   0.111192\n",
      "2018   0.102855\n",
      "      PazarPayi\n",
      "year           \n",
      "2015   0.057240\n",
      "2016   0.047389\n",
      "2017   0.052467\n",
      "2018   0.061109\n",
      "      PazarPayi\n",
      "year           \n",
      "2015   0.112771\n",
      "2016   0.109307\n",
      "2017   0.096567\n",
      "2018   0.099311\n",
      "      PazarPayi\n",
      "year           \n",
      "2015   0.099085\n",
      "2016   0.094365\n",
      "2017   0.062378\n",
      "2018   0.057095\n",
      "      PazarPayi\n",
      "year           \n",
      "2015   0.028445\n",
      "2016   0.050044\n",
      "2017   0.045561\n",
      "2018   0.042779\n"
     ]
    },
    {
     "data": {
      "image/png": "[encoded data removed]",
      "text/plain": [
       "<Figure size 432x288 with 1 Axes>"
      ]
     },
     "metadata": {
      "needs_background": "light"
     },
     "output_type": "display_data"
    }
   ],
   "source": [
    "\n",
    "#ALL COMPANIES MARKET SHARE MEAN\n",
    "All_companies=filtered_result2.loc[:,['PazarPayi','year']]\n",
    "All_companies=All_companies.groupby(All_companies['year']).mean()\n",
    "print(All_companies)\n",
    "\n",
    "#ALLIANZ MARKET SHARE Mean\n",
    "Allianz_mean=Allianz.loc[:,['PazarPayi','year']]\n",
    "Allianz_mean=Allianz_mean.groupby(Allianz_mean['year']).mean()\n",
    "print(Allianz_mean)\n",
    "#print(Allianz)\n",
    "\n",
    "\n",
    "#AK SIGORTA MARKET SHARE MEAN\n",
    "\n",
    "Ak_mean=Ak.loc[:,['PazarPayi','year']]\n",
    "Ak_mean=Ak_mean.groupby(Ak_mean['year']).mean()\n",
    "print(Ak_mean)\n",
    "\n",
    "\n",
    "#ANADOLU SIGORTA MARKET SHARE MEAN\n",
    "\n",
    "Anadolu_mean=Anadolu.loc[:,['PazarPayi','year']]\n",
    "Anadolu_mean=Anadolu_mean.groupby(Anadolu_mean['year']).mean()\n",
    "print(Anadolu_mean)\n",
    "\n",
    "#AXA SIGORTA MARKET SHARE MEAN\n",
    "\n",
    "Axa_mean=Axa.loc[:,['PazarPayi','year']]\n",
    "Axa_mean=Axa_mean.groupby(Axa_mean['year']).mean()\n",
    "print(Axa_mean)\n",
    "\n",
    "#SOMPOJAPAN SIGORTA MARKET SHARE MEAN\n",
    "\n",
    "SompoJapan_mean=SompoJapan.loc[:,['PazarPayi','year']]\n",
    "SompoJapan_mean=SompoJapan_mean.groupby(SompoJapan_mean['year']).mean()\n",
    "print(SompoJapan_mean)\n",
    "\n",
    "\n",
    "#plt.scatter(All_companies,Allianz_mean)\n",
    "#Allianz_mean.columns = year.astype(int)\n",
    "\n",
    "x = All_companies.index\n",
    "y1 = All_companies['PazarPayi']\n",
    "y2 = Allianz_mean['PazarPayi']\n",
    "y3 =Ak_mean['PazarPayi']\n",
    "y4= Anadolu_mean['PazarPayi']\n",
    "y5=Axa_mean['PazarPayi']\n",
    "y6=SompoJapan_mean['PazarPayi']\n",
    "\n",
    "#plt.plot(x,y1)\n",
    "plt.plot(x,y2,'C1', label=\"Allianz\")\n",
    "plt.plot(x,y3,'C2', label='Ak')\n",
    "plt.plot(x,y4,'C3', label='Anadolu')\n",
    "plt.plot(x,y5, 'C4', label='Axa')\n",
    "plt.plot(x,y6, 'C5', label='SompoJapan')\n",
    "plt.legend()\n",
    "plt.show()"
   ]
  },
  {
   "cell_type": "code",
   "execution_count": 2,
   "metadata": {},
   "outputs": [
    {
     "data": {
      "image/png": "[encoded data removed]",
      "text/plain": [
       "<Figure size 432x288 with 1 Axes>"
      ]
     },
     "metadata": {
      "needs_background": "light"
     },
     "output_type": "display_data"
    }
   ],
   "source": [
    "Allianz['ToplamUretim'].plot()\n",
    "plt.show()"
   ]
  },
  {
   "cell_type": "code",
   "execution_count": 2,
   "metadata": {},
   "outputs": [
    {
     "ename": "NameError",
     "evalue": "name 'filtered_result2' is not defined",
     "output_type": "error",
     "traceback": [
      "\u001b[1;31m---------------------------------------------------------------------------\u001b[0m",
      "\u001b[1;31mNameError\u001b[0m                                 Traceback (most recent call last)",
      "\u001b[1;32m<ipython-input-2-1839f6084f13>\u001b[0m in \u001b[0;36m<module>\u001b[1;34m\u001b[0m\n\u001b[1;32m----> 1\u001b[1;33m \u001b[0mfiltered_result2\u001b[0m\u001b[1;33m[\u001b[0m\u001b[1;34m'TotalGDP'\u001b[0m\u001b[1;33m]\u001b[0m\u001b[1;33m=\u001b[0m\u001b[1;33m[\u001b[0m\u001b[1;36m2044465\u001b[0m\u001b[1;33m,\u001b[0m \u001b[1;36m2338647\u001b[0m\u001b[1;33m,\u001b[0m \u001b[1;36m2608525\u001b[0m\u001b[1;33m,\u001b[0m \u001b[1;36m3106536\u001b[0m\u001b[1;33m,\u001b[0m \u001b[1;36m1\u001b[0m\u001b[1;33m]\u001b[0m\u001b[1;33m\u001b[0m\u001b[1;33m\u001b[0m\u001b[0m\n\u001b[0m\u001b[0;32m      2\u001b[0m \u001b[0mprint\u001b[0m\u001b[1;33m(\u001b[0m\u001b[0mfiltered_result2\u001b[0m\u001b[1;33m)\u001b[0m\u001b[1;33m\u001b[0m\u001b[1;33m\u001b[0m\u001b[0m\n",
      "\u001b[1;31mNameError\u001b[0m: name 'filtered_result2' is not defined"
     ]
    }
   ],
   "source": [
    "filtered_result2['TotalGDP']=[2044465, 2338647, 2608525, 3106536, 1]\n",
    "print(filtered_result2)"
   ]
  },
  {
   "cell_type": "code",
   "execution_count": 1,
   "metadata": {},
   "outputs": [
    {
     "ename": "NameError",
     "evalue": "name 'filtered_result2' is not defined",
     "output_type": "error",
     "traceback": [
      "\u001b[1;31m---------------------------------------------------------------------------\u001b[0m",
      "\u001b[1;31mNameError\u001b[0m                                 Traceback (most recent call last)",
      "\u001b[1;32m<ipython-input-1-7da95404d960>\u001b[0m in \u001b[0;36m<module>\u001b[1;34m\u001b[0m\n\u001b[1;32m----> 1\u001b[1;33m \u001b[0mAll_companies\u001b[0m\u001b[1;33m=\u001b[0m\u001b[0mfiltered_result2\u001b[0m\u001b[1;33m.\u001b[0m\u001b[0mloc\u001b[0m\u001b[1;33m[\u001b[0m\u001b[1;33m:\u001b[0m\u001b[1;33m,\u001b[0m\u001b[1;33m[\u001b[0m\u001b[1;34m'ToplamUretim'\u001b[0m\u001b[1;33m,\u001b[0m\u001b[1;34m'year'\u001b[0m\u001b[1;33m]\u001b[0m\u001b[1;33m]\u001b[0m\u001b[1;33m\u001b[0m\u001b[1;33m\u001b[0m\u001b[0m\n\u001b[0m\u001b[0;32m      2\u001b[0m \u001b[0mAll_companies\u001b[0m\u001b[1;33m=\u001b[0m\u001b[0mAll_companies\u001b[0m\u001b[1;33m.\u001b[0m\u001b[0mgroupby\u001b[0m\u001b[1;33m(\u001b[0m\u001b[0mAll_companies\u001b[0m\u001b[1;33m[\u001b[0m\u001b[1;34m'year'\u001b[0m\u001b[1;33m]\u001b[0m\u001b[1;33m)\u001b[0m\u001b[1;33m.\u001b[0m\u001b[0mmean\u001b[0m\u001b[1;33m(\u001b[0m\u001b[1;33m)\u001b[0m\u001b[1;33m\u001b[0m\u001b[1;33m\u001b[0m\u001b[0m\n\u001b[0;32m      3\u001b[0m \u001b[0mprint\u001b[0m\u001b[1;33m(\u001b[0m\u001b[0mAll_companies\u001b[0m\u001b[1;33m)\u001b[0m\u001b[1;33m\u001b[0m\u001b[1;33m\u001b[0m\u001b[0m\n",
      "\u001b[1;31mNameError\u001b[0m: name 'filtered_result2' is not defined"
     ]
    }
   ],
   "source": [
    "All_companies=filtered_result2.loc[:,['ToplamUretim','year']]\n",
    "All_companies=All_companies.groupby(All_companies['year']).mean()\n",
    "print(All_companies)"
   ]
  },
  {
   "cell_type": "code",
   "execution_count": 5,
   "metadata": {},
   "outputs": [
    {
     "name": "stdout",
     "output_type": "stream",
     "text": [
      "      ToplamUretim  TotalGDP  TotalCPI  AllCompCumPremium\n",
      "year                                                     \n",
      "2014  1.692928e+11   2044465   242.020                NaN\n",
      "2015  1.968533e+11   2338647   260.585          14.000496\n",
      "2016  2.613151e+11   2608525   280.860          24.668255\n",
      "2017  2.988593e+11   3106536   312.150          12.562492\n",
      "2018  3.428507e+11         1   363.125          12.831061\n"
     ]
    }
   ],
   "source": [
    "#ALL COMPANIES TOTAL PREMIUM  SUM\n",
    "All_companiesSum=filtered_result2.loc[:,['ToplamUretim','year']]\n",
    "All_companiesSum=All_companiesSum.groupby(All_companiesSum['year']).sum()\n",
    "All_companiesSum['TotalGDP']=pd.Series([2044465, 2338647, 2608525, 3106536, 1], index=All_companiesSum.index)\n",
    "All_companiesSum['TotalCPI']=pd.Series([242.02, 260.585, 280.86, 312.15, 363.125], index=All_companiesSum.index)\n",
    "All_companiesSum['AllCompCumPremium']=(100*(All_companiesSum['ToplamUretim']-All_companiesSum['ToplamUretim'].shift(1)))/All_companiesSum['ToplamUretim']\n",
    "print(All_companiesSum)\n"
   ]
  },
  {
   "cell_type": "code",
   "execution_count": 6,
   "metadata": {},
   "outputs": [
    {
     "name": "stdout",
     "output_type": "stream",
     "text": [
      "      ToplamUretim  TotalGDP  TotalCPI  AllCompCumPremiumRatio      GdpRatio\n",
      "year                                                                        \n",
      "2014  1.692928e+11   2044465   242.020                     NaN           NaN\n",
      "2015  1.968533e+11   2338647   260.585               14.000496  1.257915e+01\n",
      "2016  2.613151e+11   2608525   280.860               24.668255  1.034600e+01\n",
      "2017  2.988593e+11   3106536   312.150               12.562492  1.603107e+01\n",
      "2018  3.428507e+11         1   363.125               12.831061 -3.106535e+08\n"
     ]
    }
   ],
   "source": [
    "#ALL COMPANIES TOTAL PREMIUM  SUM\n",
    "All_companiesSum=filtered_result2.loc[:,['ToplamUretim','year']]\n",
    "All_companiesSum=All_companiesSum.groupby(All_companiesSum['year']).sum()\n",
    "All_companiesSum['TotalGDP']=pd.Series([2044465, 2338647, 2608525, 3106536, 1], index=All_companiesSum.index)\n",
    "All_companiesSum['TotalCPI']=pd.Series([242.02, 260.585, 280.86, 312.15, 363.125], index=All_companiesSum.index)\n",
    "All_companiesSum['AllCompCumPremiumRatio']=(100*(All_companiesSum['ToplamUretim']-All_companiesSum['ToplamUretim'].shift(1)))/All_companiesSum['ToplamUretim']\n",
    "All_companiesSum['GdpRatio']=(100*(All_companiesSum['TotalGDP']-All_companiesSum['TotalGDP'].shift(1)))/All_companiesSum['TotalGDP']\n",
    "print(All_companiesSum)"
   ]
  },
  {
   "cell_type": "code",
   "execution_count": 7,
   "metadata": {},
   "outputs": [
    {
     "data": {
      "text/plain": [
       "year\n",
       "2014           NaN\n",
       "2015   -100.000000\n",
       "2016   -100.000000\n",
       "2017   -100.000000\n",
       "2018   -100.090609\n",
       "Name: CAGR, dtype: float64"
      ]
     },
     "execution_count": 7,
     "metadata": {},
     "output_type": "execute_result"
    }
   ],
   "source": [
    "All_companiesSum.iloc[:, -1]"
   ]
  },
  {
   "cell_type": "code",
   "execution_count": 8,
   "metadata": {},
   "outputs": [
    {
     "data": {
      "text/plain": [
       "year\n",
       "2014           NaN\n",
       "2015   -100.000000\n",
       "2016   -100.000000\n",
       "2017   -100.000000\n",
       "2018   -100.090609\n",
       "Name: CAGR, dtype: float64"
      ]
     },
     "execution_count": 8,
     "metadata": {},
     "output_type": "execute_result"
    }
   ],
   "source": [
    "All_companiesSum.iloc[:, -1]"
   ]
  },
  {
   "cell_type": "code",
   "execution_count": 13,
   "metadata": {},
   "outputs": [
    {
     "ename": "KeyError",
     "evalue": "(1, 0)",
     "output_type": "error",
     "traceback": [
      "\u001b[1;31m---------------------------------------------------------------------------\u001b[0m",
      "\u001b[1;31mKeyError\u001b[0m                                  Traceback (most recent call last)",
      "\u001b[1;32mc:\\python_projects\\proje_1\\venv\\lib\\site-packages\\pandas\\core\\indexes\\base.py\u001b[0m in \u001b[0;36mget_loc\u001b[1;34m(self, key, method, tolerance)\u001b[0m\n\u001b[0;32m   3077\u001b[0m             \u001b[1;32mtry\u001b[0m\u001b[1;33m:\u001b[0m\u001b[1;33m\u001b[0m\u001b[1;33m\u001b[0m\u001b[0m\n\u001b[1;32m-> 3078\u001b[1;33m                 \u001b[1;32mreturn\u001b[0m \u001b[0mself\u001b[0m\u001b[1;33m.\u001b[0m\u001b[0m_engine\u001b[0m\u001b[1;33m.\u001b[0m\u001b[0mget_loc\u001b[0m\u001b[1;33m(\u001b[0m\u001b[0mkey\u001b[0m\u001b[1;33m)\u001b[0m\u001b[1;33m\u001b[0m\u001b[1;33m\u001b[0m\u001b[0m\n\u001b[0m\u001b[0;32m   3079\u001b[0m             \u001b[1;32mexcept\u001b[0m \u001b[0mKeyError\u001b[0m\u001b[1;33m:\u001b[0m\u001b[1;33m\u001b[0m\u001b[1;33m\u001b[0m\u001b[0m\n",
      "\u001b[1;32mpandas\\_libs\\index.pyx\u001b[0m in \u001b[0;36mpandas._libs.index.IndexEngine.get_loc\u001b[1;34m()\u001b[0m\n",
      "\u001b[1;32mpandas\\_libs\\index.pyx\u001b[0m in \u001b[0;36mpandas._libs.index.IndexEngine.get_loc\u001b[1;34m()\u001b[0m\n",
      "\u001b[1;32mpandas\\_libs\\hashtable_class_helper.pxi\u001b[0m in \u001b[0;36mpandas._libs.hashtable.PyObjectHashTable.get_item\u001b[1;34m()\u001b[0m\n",
      "\u001b[1;32mpandas\\_libs\\hashtable_class_helper.pxi\u001b[0m in \u001b[0;36mpandas._libs.hashtable.PyObjectHashTable.get_item\u001b[1;34m()\u001b[0m\n",
      "\u001b[1;31mKeyError\u001b[0m: (1, 0)",
      "\nDuring handling of the above exception, another exception occurred:\n",
      "\u001b[1;31mKeyError\u001b[0m                                  Traceback (most recent call last)",
      "\u001b[1;32m<ipython-input-13-bedd7364863c>\u001b[0m in \u001b[0;36m<module>\u001b[1;34m\u001b[0m\n\u001b[0;32m      2\u001b[0m \u001b[1;32mfor\u001b[0m \u001b[0mi\u001b[0m \u001b[1;32min\u001b[0m \u001b[0mrange\u001b[0m\u001b[1;33m(\u001b[0m\u001b[1;36m1\u001b[0m\u001b[1;33m,\u001b[0m\u001b[1;36m5\u001b[0m\u001b[1;33m)\u001b[0m\u001b[1;33m:\u001b[0m\u001b[1;33m\u001b[0m\u001b[1;33m\u001b[0m\u001b[0m\n\u001b[0;32m      3\u001b[0m     \u001b[1;31m#All_companiesSum['CAGR']= pd.Series([(100*(All_companiesSum['ToplamUretim']-All_companiesSum['ToplamUretim'].shift(i)))/All_companiesSum['ToplamUretim']], index=All_companiesSum.index)\u001b[0m\u001b[1;33m\u001b[0m\u001b[1;33m\u001b[0m\u001b[1;33m\u001b[0m\u001b[0m\n\u001b[1;32m----> 4\u001b[1;33m     \u001b[0mCAGR\u001b[0m\u001b[1;33m.\u001b[0m\u001b[0mappend\u001b[0m\u001b[1;33m(\u001b[0m\u001b[1;33m(\u001b[0m\u001b[1;36m100\u001b[0m\u001b[1;33m*\u001b[0m\u001b[1;33m(\u001b[0m\u001b[0mAll_companiesSum\u001b[0m\u001b[1;33m.\u001b[0m\u001b[0miloc\u001b[0m\u001b[1;33m[\u001b[0m\u001b[0mi\u001b[0m\u001b[1;33m,\u001b[0m\u001b[1;36m0\u001b[0m\u001b[1;33m]\u001b[0m\u001b[1;33m-\u001b[0m\u001b[0mAll_companiesSum\u001b[0m\u001b[1;33m.\u001b[0m\u001b[0miloc\u001b[0m\u001b[1;33m[\u001b[0m\u001b[1;33m(\u001b[0m\u001b[0mi\u001b[0m\u001b[1;33m-\u001b[0m\u001b[1;36m1\u001b[0m\u001b[1;33m)\u001b[0m\u001b[1;33m,\u001b[0m\u001b[1;36m0\u001b[0m\u001b[1;33m]\u001b[0m\u001b[1;33m)\u001b[0m\u001b[1;33m/\u001b[0m\u001b[0mAll_companiesSum\u001b[0m\u001b[1;33m[\u001b[0m\u001b[0mi\u001b[0m\u001b[1;33m,\u001b[0m\u001b[1;36m0\u001b[0m\u001b[1;33m]\u001b[0m\u001b[1;33m)\u001b[0m\u001b[1;33m)\u001b[0m\u001b[1;33m\u001b[0m\u001b[1;33m\u001b[0m\u001b[0m\n\u001b[0m\u001b[0;32m      5\u001b[0m \u001b[0mprint\u001b[0m\u001b[1;33m(\u001b[0m\u001b[0mCAGR\u001b[0m\u001b[1;33m)\u001b[0m\u001b[1;33m\u001b[0m\u001b[1;33m\u001b[0m\u001b[0m\n",
      "\u001b[1;32mc:\\python_projects\\proje_1\\venv\\lib\\site-packages\\pandas\\core\\frame.py\u001b[0m in \u001b[0;36m__getitem__\u001b[1;34m(self, key)\u001b[0m\n\u001b[0;32m   2686\u001b[0m             \u001b[1;32mreturn\u001b[0m \u001b[0mself\u001b[0m\u001b[1;33m.\u001b[0m\u001b[0m_getitem_multilevel\u001b[0m\u001b[1;33m(\u001b[0m\u001b[0mkey\u001b[0m\u001b[1;33m)\u001b[0m\u001b[1;33m\u001b[0m\u001b[1;33m\u001b[0m\u001b[0m\n\u001b[0;32m   2687\u001b[0m         \u001b[1;32melse\u001b[0m\u001b[1;33m:\u001b[0m\u001b[1;33m\u001b[0m\u001b[1;33m\u001b[0m\u001b[0m\n\u001b[1;32m-> 2688\u001b[1;33m             \u001b[1;32mreturn\u001b[0m \u001b[0mself\u001b[0m\u001b[1;33m.\u001b[0m\u001b[0m_getitem_column\u001b[0m\u001b[1;33m(\u001b[0m\u001b[0mkey\u001b[0m\u001b[1;33m)\u001b[0m\u001b[1;33m\u001b[0m\u001b[1;33m\u001b[0m\u001b[0m\n\u001b[0m\u001b[0;32m   2689\u001b[0m \u001b[1;33m\u001b[0m\u001b[0m\n\u001b[0;32m   2690\u001b[0m     \u001b[1;32mdef\u001b[0m \u001b[0m_getitem_column\u001b[0m\u001b[1;33m(\u001b[0m\u001b[0mself\u001b[0m\u001b[1;33m,\u001b[0m \u001b[0mkey\u001b[0m\u001b[1;33m)\u001b[0m\u001b[1;33m:\u001b[0m\u001b[1;33m\u001b[0m\u001b[1;33m\u001b[0m\u001b[0m\n",
      "\u001b[1;32mc:\\python_projects\\proje_1\\venv\\lib\\site-packages\\pandas\\core\\frame.py\u001b[0m in \u001b[0;36m_getitem_column\u001b[1;34m(self, key)\u001b[0m\n\u001b[0;32m   2693\u001b[0m         \u001b[1;31m# get column\u001b[0m\u001b[1;33m\u001b[0m\u001b[1;33m\u001b[0m\u001b[1;33m\u001b[0m\u001b[0m\n\u001b[0;32m   2694\u001b[0m         \u001b[1;32mif\u001b[0m \u001b[0mself\u001b[0m\u001b[1;33m.\u001b[0m\u001b[0mcolumns\u001b[0m\u001b[1;33m.\u001b[0m\u001b[0mis_unique\u001b[0m\u001b[1;33m:\u001b[0m\u001b[1;33m\u001b[0m\u001b[1;33m\u001b[0m\u001b[0m\n\u001b[1;32m-> 2695\u001b[1;33m             \u001b[1;32mreturn\u001b[0m \u001b[0mself\u001b[0m\u001b[1;33m.\u001b[0m\u001b[0m_get_item_cache\u001b[0m\u001b[1;33m(\u001b[0m\u001b[0mkey\u001b[0m\u001b[1;33m)\u001b[0m\u001b[1;33m\u001b[0m\u001b[1;33m\u001b[0m\u001b[0m\n\u001b[0m\u001b[0;32m   2696\u001b[0m \u001b[1;33m\u001b[0m\u001b[0m\n\u001b[0;32m   2697\u001b[0m         \u001b[1;31m# duplicate columns & possible reduce dimensionality\u001b[0m\u001b[1;33m\u001b[0m\u001b[1;33m\u001b[0m\u001b[1;33m\u001b[0m\u001b[0m\n",
      "\u001b[1;32mc:\\python_projects\\proje_1\\venv\\lib\\site-packages\\pandas\\core\\generic.py\u001b[0m in \u001b[0;36m_get_item_cache\u001b[1;34m(self, item)\u001b[0m\n\u001b[0;32m   2487\u001b[0m         \u001b[0mres\u001b[0m \u001b[1;33m=\u001b[0m \u001b[0mcache\u001b[0m\u001b[1;33m.\u001b[0m\u001b[0mget\u001b[0m\u001b[1;33m(\u001b[0m\u001b[0mitem\u001b[0m\u001b[1;33m)\u001b[0m\u001b[1;33m\u001b[0m\u001b[1;33m\u001b[0m\u001b[0m\n\u001b[0;32m   2488\u001b[0m         \u001b[1;32mif\u001b[0m \u001b[0mres\u001b[0m \u001b[1;32mis\u001b[0m \u001b[1;32mNone\u001b[0m\u001b[1;33m:\u001b[0m\u001b[1;33m\u001b[0m\u001b[1;33m\u001b[0m\u001b[0m\n\u001b[1;32m-> 2489\u001b[1;33m             \u001b[0mvalues\u001b[0m \u001b[1;33m=\u001b[0m \u001b[0mself\u001b[0m\u001b[1;33m.\u001b[0m\u001b[0m_data\u001b[0m\u001b[1;33m.\u001b[0m\u001b[0mget\u001b[0m\u001b[1;33m(\u001b[0m\u001b[0mitem\u001b[0m\u001b[1;33m)\u001b[0m\u001b[1;33m\u001b[0m\u001b[1;33m\u001b[0m\u001b[0m\n\u001b[0m\u001b[0;32m   2490\u001b[0m             \u001b[0mres\u001b[0m \u001b[1;33m=\u001b[0m \u001b[0mself\u001b[0m\u001b[1;33m.\u001b[0m\u001b[0m_box_item_values\u001b[0m\u001b[1;33m(\u001b[0m\u001b[0mitem\u001b[0m\u001b[1;33m,\u001b[0m \u001b[0mvalues\u001b[0m\u001b[1;33m)\u001b[0m\u001b[1;33m\u001b[0m\u001b[1;33m\u001b[0m\u001b[0m\n\u001b[0;32m   2491\u001b[0m             \u001b[0mcache\u001b[0m\u001b[1;33m[\u001b[0m\u001b[0mitem\u001b[0m\u001b[1;33m]\u001b[0m \u001b[1;33m=\u001b[0m \u001b[0mres\u001b[0m\u001b[1;33m\u001b[0m\u001b[1;33m\u001b[0m\u001b[0m\n",
      "\u001b[1;32mc:\\python_projects\\proje_1\\venv\\lib\\site-packages\\pandas\\core\\internals.py\u001b[0m in \u001b[0;36mget\u001b[1;34m(self, item, fastpath)\u001b[0m\n\u001b[0;32m   4113\u001b[0m \u001b[1;33m\u001b[0m\u001b[0m\n\u001b[0;32m   4114\u001b[0m             \u001b[1;32mif\u001b[0m \u001b[1;32mnot\u001b[0m \u001b[0misna\u001b[0m\u001b[1;33m(\u001b[0m\u001b[0mitem\u001b[0m\u001b[1;33m)\u001b[0m\u001b[1;33m:\u001b[0m\u001b[1;33m\u001b[0m\u001b[1;33m\u001b[0m\u001b[0m\n\u001b[1;32m-> 4115\u001b[1;33m                 \u001b[0mloc\u001b[0m \u001b[1;33m=\u001b[0m \u001b[0mself\u001b[0m\u001b[1;33m.\u001b[0m\u001b[0mitems\u001b[0m\u001b[1;33m.\u001b[0m\u001b[0mget_loc\u001b[0m\u001b[1;33m(\u001b[0m\u001b[0mitem\u001b[0m\u001b[1;33m)\u001b[0m\u001b[1;33m\u001b[0m\u001b[1;33m\u001b[0m\u001b[0m\n\u001b[0m\u001b[0;32m   4116\u001b[0m             \u001b[1;32melse\u001b[0m\u001b[1;33m:\u001b[0m\u001b[1;33m\u001b[0m\u001b[1;33m\u001b[0m\u001b[0m\n\u001b[0;32m   4117\u001b[0m                 \u001b[0mindexer\u001b[0m \u001b[1;33m=\u001b[0m \u001b[0mnp\u001b[0m\u001b[1;33m.\u001b[0m\u001b[0marange\u001b[0m\u001b[1;33m(\u001b[0m\u001b[0mlen\u001b[0m\u001b[1;33m(\u001b[0m\u001b[0mself\u001b[0m\u001b[1;33m.\u001b[0m\u001b[0mitems\u001b[0m\u001b[1;33m)\u001b[0m\u001b[1;33m)\u001b[0m\u001b[1;33m[\u001b[0m\u001b[0misna\u001b[0m\u001b[1;33m(\u001b[0m\u001b[0mself\u001b[0m\u001b[1;33m.\u001b[0m\u001b[0mitems\u001b[0m\u001b[1;33m)\u001b[0m\u001b[1;33m]\u001b[0m\u001b[1;33m\u001b[0m\u001b[1;33m\u001b[0m\u001b[0m\n",
      "\u001b[1;32mc:\\python_projects\\proje_1\\venv\\lib\\site-packages\\pandas\\core\\indexes\\base.py\u001b[0m in \u001b[0;36mget_loc\u001b[1;34m(self, key, method, tolerance)\u001b[0m\n\u001b[0;32m   3078\u001b[0m                 \u001b[1;32mreturn\u001b[0m \u001b[0mself\u001b[0m\u001b[1;33m.\u001b[0m\u001b[0m_engine\u001b[0m\u001b[1;33m.\u001b[0m\u001b[0mget_loc\u001b[0m\u001b[1;33m(\u001b[0m\u001b[0mkey\u001b[0m\u001b[1;33m)\u001b[0m\u001b[1;33m\u001b[0m\u001b[1;33m\u001b[0m\u001b[0m\n\u001b[0;32m   3079\u001b[0m             \u001b[1;32mexcept\u001b[0m \u001b[0mKeyError\u001b[0m\u001b[1;33m:\u001b[0m\u001b[1;33m\u001b[0m\u001b[1;33m\u001b[0m\u001b[0m\n\u001b[1;32m-> 3080\u001b[1;33m                 \u001b[1;32mreturn\u001b[0m \u001b[0mself\u001b[0m\u001b[1;33m.\u001b[0m\u001b[0m_engine\u001b[0m\u001b[1;33m.\u001b[0m\u001b[0mget_loc\u001b[0m\u001b[1;33m(\u001b[0m\u001b[0mself\u001b[0m\u001b[1;33m.\u001b[0m\u001b[0m_maybe_cast_indexer\u001b[0m\u001b[1;33m(\u001b[0m\u001b[0mkey\u001b[0m\u001b[1;33m)\u001b[0m\u001b[1;33m)\u001b[0m\u001b[1;33m\u001b[0m\u001b[1;33m\u001b[0m\u001b[0m\n\u001b[0m\u001b[0;32m   3081\u001b[0m \u001b[1;33m\u001b[0m\u001b[0m\n\u001b[0;32m   3082\u001b[0m         \u001b[0mindexer\u001b[0m \u001b[1;33m=\u001b[0m \u001b[0mself\u001b[0m\u001b[1;33m.\u001b[0m\u001b[0mget_indexer\u001b[0m\u001b[1;33m(\u001b[0m\u001b[1;33m[\u001b[0m\u001b[0mkey\u001b[0m\u001b[1;33m]\u001b[0m\u001b[1;33m,\u001b[0m \u001b[0mmethod\u001b[0m\u001b[1;33m=\u001b[0m\u001b[0mmethod\u001b[0m\u001b[1;33m,\u001b[0m \u001b[0mtolerance\u001b[0m\u001b[1;33m=\u001b[0m\u001b[0mtolerance\u001b[0m\u001b[1;33m)\u001b[0m\u001b[1;33m\u001b[0m\u001b[1;33m\u001b[0m\u001b[0m\n",
      "\u001b[1;32mpandas\\_libs\\index.pyx\u001b[0m in \u001b[0;36mpandas._libs.index.IndexEngine.get_loc\u001b[1;34m()\u001b[0m\n",
      "\u001b[1;32mpandas\\_libs\\index.pyx\u001b[0m in \u001b[0;36mpandas._libs.index.IndexEngine.get_loc\u001b[1;34m()\u001b[0m\n",
      "\u001b[1;32mpandas\\_libs\\hashtable_class_helper.pxi\u001b[0m in \u001b[0;36mpandas._libs.hashtable.PyObjectHashTable.get_item\u001b[1;34m()\u001b[0m\n",
      "\u001b[1;32mpandas\\_libs\\hashtable_class_helper.pxi\u001b[0m in \u001b[0;36mpandas._libs.hashtable.PyObjectHashTable.get_item\u001b[1;34m()\u001b[0m\n",
      "\u001b[1;31mKeyError\u001b[0m: (1, 0)"
     ]
    }
   ],
   "source": [
    "CAGR=[]\n",
    "for i in range(1,5):\n",
    "    #All_companiesSum['CAGR']= pd.Series([(100*(All_companiesSum['ToplamUretim']-All_companiesSum['ToplamUretim'].shift(i)))/All_companiesSum['ToplamUretim']], index=All_companiesSum.index)\n",
    "    CAGR.append((100*(All_companiesSum.iloc[i,0]-All_companiesSum.iloc[(i-1),0])/All_companiesSum[i,0]))\n",
    "print(CAGR)"
   ]
  },
  {
   "cell_type": "code",
   "execution_count": 4,
   "metadata": {},
   "outputs": [
    {
     "name": "stdout",
     "output_type": "stream",
     "text": [
      "Empty DataFrame\n",
      "Columns: [ToplamUretim, TotalGDP, TotalCPI, AllCompCumPremiumRatio, GdpRatio]\n",
      "Index: []\n"
     ]
    }
   ],
   "source": [
    "print(All_companiesSum.iloc[i:1])"
   ]
  },
  {
   "cell_type": "code",
   "execution_count": 5,
   "metadata": {},
   "outputs": [
    {
     "name": "stdout",
     "output_type": "stream",
     "text": [
      "      ToplamUretim  TotalGDP  TotalCPI  AllCompCumPremiumRatio      GdpRatio\n",
      "year                                                                        \n",
      "2014  1.692928e+11   2044465   242.020                     NaN           NaN\n",
      "2015  1.968533e+11   2338647   260.585               14.000496  1.257915e+01\n",
      "2016  2.613151e+11   2608525   280.860               24.668255  1.034600e+01\n",
      "2017  2.988593e+11   3106536   312.150               12.562492  1.603107e+01\n",
      "2018  3.428507e+11         1   363.125               12.831061 -3.106535e+08\n"
     ]
    }
   ],
   "source": [
    "print(All_companiesSum)"
   ]
  },
  {
   "cell_type": "code",
   "execution_count": 6,
   "metadata": {},
   "outputs": [
    {
     "name": "stdout",
     "output_type": "stream",
     "text": [
      "Empty DataFrame\n",
      "Columns: [ToplamUretim, TotalGDP, TotalCPI, AllCompCumPremiumRatio, GdpRatio]\n",
      "Index: []\n"
     ]
    }
   ],
   "source": [
    "print(All_companiesSum.iloc[1:1])"
   ]
  },
  {
   "cell_type": "code",
   "execution_count": 7,
   "metadata": {},
   "outputs": [
    {
     "name": "stdout",
     "output_type": "stream",
     "text": [
      "Empty DataFrame\n",
      "Columns: [ToplamUretim, TotalGDP, TotalCPI, AllCompCumPremiumRatio, GdpRatio]\n",
      "Index: []\n"
     ]
    }
   ],
   "source": [
    "print(All_companiesSum.iloc[2:1])"
   ]
  },
  {
   "cell_type": "code",
   "execution_count": 8,
   "metadata": {},
   "outputs": [
    {
     "name": "stdout",
     "output_type": "stream",
     "text": [
      "Empty DataFrame\n",
      "Columns: [ToplamUretim, TotalGDP, TotalCPI, AllCompCumPremiumRatio, GdpRatio]\n",
      "Index: []\n"
     ]
    }
   ],
   "source": [
    "print(All_companiesSum.iloc[2:2])"
   ]
  },
  {
   "cell_type": "code",
   "execution_count": 9,
   "metadata": {},
   "outputs": [
    {
     "name": "stdout",
     "output_type": "stream",
     "text": [
      "Empty DataFrame\n",
      "Columns: [ToplamUretim, TotalGDP, TotalCPI, AllCompCumPremiumRatio, GdpRatio]\n",
      "Index: []\n"
     ]
    }
   ],
   "source": [
    "print(All_companiesSum.loc[1:1])"
   ]
  },
  {
   "cell_type": "code",
   "execution_count": 10,
   "metadata": {},
   "outputs": [
    {
     "name": "stdout",
     "output_type": "stream",
     "text": [
      "Empty DataFrame\n",
      "Columns: [ToplamUretim, TotalGDP, TotalCPI, AllCompCumPremiumRatio, GdpRatio]\n",
      "Index: []\n"
     ]
    }
   ],
   "source": [
    "print(All_companiesSum.loc[2:2])"
   ]
  },
  {
   "cell_type": "code",
   "execution_count": 11,
   "metadata": {},
   "outputs": [
    {
     "name": "stdout",
     "output_type": "stream",
     "text": [
      "2338647\n"
     ]
    }
   ],
   "source": [
    "print(All_companiesSum.iloc[1,1])"
   ]
  },
  {
   "cell_type": "code",
   "execution_count": 14,
   "metadata": {},
   "outputs": [
    {
     "data": {
      "text/plain": [
       "196853258695.9325"
      ]
     },
     "execution_count": 14,
     "metadata": {},
     "output_type": "execute_result"
    }
   ],
   "source": [
    "All_companiesSum.iloc[i,0]\n"
   ]
  },
  {
   "cell_type": "code",
   "execution_count": 15,
   "metadata": {},
   "outputs": [
    {
     "data": {
      "text/plain": [
       "169292826639.8636"
      ]
     },
     "execution_count": 15,
     "metadata": {},
     "output_type": "execute_result"
    }
   ],
   "source": [
    "All_companiesSum.iloc[0,0]"
   ]
  },
  {
   "cell_type": "code",
   "execution_count": 16,
   "metadata": {},
   "outputs": [
    {
     "data": {
      "text/plain": [
       "196853258695.9325"
      ]
     },
     "execution_count": 16,
     "metadata": {},
     "output_type": "execute_result"
    }
   ],
   "source": [
    "All_companiesSum.iloc[1,0]"
   ]
  },
  {
   "cell_type": "code",
   "execution_count": 17,
   "metadata": {},
   "outputs": [
    {
     "ename": "KeyError",
     "evalue": "(1, 0)",
     "output_type": "error",
     "traceback": [
      "\u001b[1;31m---------------------------------------------------------------------------\u001b[0m",
      "\u001b[1;31mKeyError\u001b[0m                                  Traceback (most recent call last)",
      "\u001b[1;32mc:\\python_projects\\proje_1\\venv\\lib\\site-packages\\pandas\\core\\indexes\\base.py\u001b[0m in \u001b[0;36mget_loc\u001b[1;34m(self, key, method, tolerance)\u001b[0m\n\u001b[0;32m   3077\u001b[0m             \u001b[1;32mtry\u001b[0m\u001b[1;33m:\u001b[0m\u001b[1;33m\u001b[0m\u001b[1;33m\u001b[0m\u001b[0m\n\u001b[1;32m-> 3078\u001b[1;33m                 \u001b[1;32mreturn\u001b[0m \u001b[0mself\u001b[0m\u001b[1;33m.\u001b[0m\u001b[0m_engine\u001b[0m\u001b[1;33m.\u001b[0m\u001b[0mget_loc\u001b[0m\u001b[1;33m(\u001b[0m\u001b[0mkey\u001b[0m\u001b[1;33m)\u001b[0m\u001b[1;33m\u001b[0m\u001b[1;33m\u001b[0m\u001b[0m\n\u001b[0m\u001b[0;32m   3079\u001b[0m             \u001b[1;32mexcept\u001b[0m \u001b[0mKeyError\u001b[0m\u001b[1;33m:\u001b[0m\u001b[1;33m\u001b[0m\u001b[1;33m\u001b[0m\u001b[0m\n",
      "\u001b[1;32mpandas\\_libs\\index.pyx\u001b[0m in \u001b[0;36mpandas._libs.index.IndexEngine.get_loc\u001b[1;34m()\u001b[0m\n",
      "\u001b[1;32mpandas\\_libs\\index.pyx\u001b[0m in \u001b[0;36mpandas._libs.index.IndexEngine.get_loc\u001b[1;34m()\u001b[0m\n",
      "\u001b[1;32mpandas\\_libs\\hashtable_class_helper.pxi\u001b[0m in \u001b[0;36mpandas._libs.hashtable.PyObjectHashTable.get_item\u001b[1;34m()\u001b[0m\n",
      "\u001b[1;32mpandas\\_libs\\hashtable_class_helper.pxi\u001b[0m in \u001b[0;36mpandas._libs.hashtable.PyObjectHashTable.get_item\u001b[1;34m()\u001b[0m\n",
      "\u001b[1;31mKeyError\u001b[0m: (1, 0)",
      "\nDuring handling of the above exception, another exception occurred:\n",
      "\u001b[1;31mKeyError\u001b[0m                                  Traceback (most recent call last)",
      "\u001b[1;32m<ipython-input-17-90314c366de6>\u001b[0m in \u001b[0;36m<module>\u001b[1;34m\u001b[0m\n\u001b[0;32m      1\u001b[0m \u001b[1;32mfor\u001b[0m \u001b[0mi\u001b[0m \u001b[1;32min\u001b[0m \u001b[0mrange\u001b[0m\u001b[1;33m(\u001b[0m\u001b[1;36m1\u001b[0m\u001b[1;33m,\u001b[0m\u001b[1;36m5\u001b[0m\u001b[1;33m)\u001b[0m\u001b[1;33m:\u001b[0m\u001b[1;33m\u001b[0m\u001b[1;33m\u001b[0m\u001b[0m\n\u001b[0;32m      2\u001b[0m     \u001b[1;31m#All_companiesSum['CAGR']= pd.Series([(100*(All_companiesSum['ToplamUretim']-All_companiesSum['ToplamUretim'].shift(i)))/All_companiesSum['ToplamUretim']], index=All_companiesSum.index)\u001b[0m\u001b[1;33m\u001b[0m\u001b[1;33m\u001b[0m\u001b[1;33m\u001b[0m\u001b[0m\n\u001b[1;32m----> 3\u001b[1;33m     \u001b[0mprint\u001b[0m\u001b[1;33m(\u001b[0m\u001b[1;33m(\u001b[0m\u001b[1;36m100\u001b[0m\u001b[1;33m*\u001b[0m\u001b[1;33m(\u001b[0m\u001b[0mAll_companiesSum\u001b[0m\u001b[1;33m.\u001b[0m\u001b[0miloc\u001b[0m\u001b[1;33m[\u001b[0m\u001b[0mi\u001b[0m\u001b[1;33m,\u001b[0m\u001b[1;36m0\u001b[0m\u001b[1;33m]\u001b[0m\u001b[1;33m-\u001b[0m\u001b[0mAll_companiesSum\u001b[0m\u001b[1;33m.\u001b[0m\u001b[0miloc\u001b[0m\u001b[1;33m[\u001b[0m\u001b[1;33m(\u001b[0m\u001b[0mi\u001b[0m\u001b[1;33m-\u001b[0m\u001b[1;36m1\u001b[0m\u001b[1;33m)\u001b[0m\u001b[1;33m,\u001b[0m\u001b[1;36m0\u001b[0m\u001b[1;33m]\u001b[0m\u001b[1;33m)\u001b[0m\u001b[1;33m/\u001b[0m\u001b[0mAll_companiesSum\u001b[0m\u001b[1;33m[\u001b[0m\u001b[0mi\u001b[0m\u001b[1;33m,\u001b[0m\u001b[1;36m0\u001b[0m\u001b[1;33m]\u001b[0m\u001b[1;33m)\u001b[0m\u001b[1;33m)\u001b[0m\u001b[1;33m\u001b[0m\u001b[1;33m\u001b[0m\u001b[0m\n\u001b[0m",
      "\u001b[1;32mc:\\python_projects\\proje_1\\venv\\lib\\site-packages\\pandas\\core\\frame.py\u001b[0m in \u001b[0;36m__getitem__\u001b[1;34m(self, key)\u001b[0m\n\u001b[0;32m   2686\u001b[0m             \u001b[1;32mreturn\u001b[0m \u001b[0mself\u001b[0m\u001b[1;33m.\u001b[0m\u001b[0m_getitem_multilevel\u001b[0m\u001b[1;33m(\u001b[0m\u001b[0mkey\u001b[0m\u001b[1;33m)\u001b[0m\u001b[1;33m\u001b[0m\u001b[1;33m\u001b[0m\u001b[0m\n\u001b[0;32m   2687\u001b[0m         \u001b[1;32melse\u001b[0m\u001b[1;33m:\u001b[0m\u001b[1;33m\u001b[0m\u001b[1;33m\u001b[0m\u001b[0m\n\u001b[1;32m-> 2688\u001b[1;33m             \u001b[1;32mreturn\u001b[0m \u001b[0mself\u001b[0m\u001b[1;33m.\u001b[0m\u001b[0m_getitem_column\u001b[0m\u001b[1;33m(\u001b[0m\u001b[0mkey\u001b[0m\u001b[1;33m)\u001b[0m\u001b[1;33m\u001b[0m\u001b[1;33m\u001b[0m\u001b[0m\n\u001b[0m\u001b[0;32m   2689\u001b[0m \u001b[1;33m\u001b[0m\u001b[0m\n\u001b[0;32m   2690\u001b[0m     \u001b[1;32mdef\u001b[0m \u001b[0m_getitem_column\u001b[0m\u001b[1;33m(\u001b[0m\u001b[0mself\u001b[0m\u001b[1;33m,\u001b[0m \u001b[0mkey\u001b[0m\u001b[1;33m)\u001b[0m\u001b[1;33m:\u001b[0m\u001b[1;33m\u001b[0m\u001b[1;33m\u001b[0m\u001b[0m\n",
      "\u001b[1;32mc:\\python_projects\\proje_1\\venv\\lib\\site-packages\\pandas\\core\\frame.py\u001b[0m in \u001b[0;36m_getitem_column\u001b[1;34m(self, key)\u001b[0m\n\u001b[0;32m   2693\u001b[0m         \u001b[1;31m# get column\u001b[0m\u001b[1;33m\u001b[0m\u001b[1;33m\u001b[0m\u001b[1;33m\u001b[0m\u001b[0m\n\u001b[0;32m   2694\u001b[0m         \u001b[1;32mif\u001b[0m \u001b[0mself\u001b[0m\u001b[1;33m.\u001b[0m\u001b[0mcolumns\u001b[0m\u001b[1;33m.\u001b[0m\u001b[0mis_unique\u001b[0m\u001b[1;33m:\u001b[0m\u001b[1;33m\u001b[0m\u001b[1;33m\u001b[0m\u001b[0m\n\u001b[1;32m-> 2695\u001b[1;33m             \u001b[1;32mreturn\u001b[0m \u001b[0mself\u001b[0m\u001b[1;33m.\u001b[0m\u001b[0m_get_item_cache\u001b[0m\u001b[1;33m(\u001b[0m\u001b[0mkey\u001b[0m\u001b[1;33m)\u001b[0m\u001b[1;33m\u001b[0m\u001b[1;33m\u001b[0m\u001b[0m\n\u001b[0m\u001b[0;32m   2696\u001b[0m \u001b[1;33m\u001b[0m\u001b[0m\n\u001b[0;32m   2697\u001b[0m         \u001b[1;31m# duplicate columns & possible reduce dimensionality\u001b[0m\u001b[1;33m\u001b[0m\u001b[1;33m\u001b[0m\u001b[1;33m\u001b[0m\u001b[0m\n",
      "\u001b[1;32mc:\\python_projects\\proje_1\\venv\\lib\\site-packages\\pandas\\core\\generic.py\u001b[0m in \u001b[0;36m_get_item_cache\u001b[1;34m(self, item)\u001b[0m\n\u001b[0;32m   2487\u001b[0m         \u001b[0mres\u001b[0m \u001b[1;33m=\u001b[0m \u001b[0mcache\u001b[0m\u001b[1;33m.\u001b[0m\u001b[0mget\u001b[0m\u001b[1;33m(\u001b[0m\u001b[0mitem\u001b[0m\u001b[1;33m)\u001b[0m\u001b[1;33m\u001b[0m\u001b[1;33m\u001b[0m\u001b[0m\n\u001b[0;32m   2488\u001b[0m         \u001b[1;32mif\u001b[0m \u001b[0mres\u001b[0m \u001b[1;32mis\u001b[0m \u001b[1;32mNone\u001b[0m\u001b[1;33m:\u001b[0m\u001b[1;33m\u001b[0m\u001b[1;33m\u001b[0m\u001b[0m\n\u001b[1;32m-> 2489\u001b[1;33m             \u001b[0mvalues\u001b[0m \u001b[1;33m=\u001b[0m \u001b[0mself\u001b[0m\u001b[1;33m.\u001b[0m\u001b[0m_data\u001b[0m\u001b[1;33m.\u001b[0m\u001b[0mget\u001b[0m\u001b[1;33m(\u001b[0m\u001b[0mitem\u001b[0m\u001b[1;33m)\u001b[0m\u001b[1;33m\u001b[0m\u001b[1;33m\u001b[0m\u001b[0m\n\u001b[0m\u001b[0;32m   2490\u001b[0m             \u001b[0mres\u001b[0m \u001b[1;33m=\u001b[0m \u001b[0mself\u001b[0m\u001b[1;33m.\u001b[0m\u001b[0m_box_item_values\u001b[0m\u001b[1;33m(\u001b[0m\u001b[0mitem\u001b[0m\u001b[1;33m,\u001b[0m \u001b[0mvalues\u001b[0m\u001b[1;33m)\u001b[0m\u001b[1;33m\u001b[0m\u001b[1;33m\u001b[0m\u001b[0m\n\u001b[0;32m   2491\u001b[0m             \u001b[0mcache\u001b[0m\u001b[1;33m[\u001b[0m\u001b[0mitem\u001b[0m\u001b[1;33m]\u001b[0m \u001b[1;33m=\u001b[0m \u001b[0mres\u001b[0m\u001b[1;33m\u001b[0m\u001b[1;33m\u001b[0m\u001b[0m\n",
      "\u001b[1;32mc:\\python_projects\\proje_1\\venv\\lib\\site-packages\\pandas\\core\\internals.py\u001b[0m in \u001b[0;36mget\u001b[1;34m(self, item, fastpath)\u001b[0m\n\u001b[0;32m   4113\u001b[0m \u001b[1;33m\u001b[0m\u001b[0m\n\u001b[0;32m   4114\u001b[0m             \u001b[1;32mif\u001b[0m \u001b[1;32mnot\u001b[0m \u001b[0misna\u001b[0m\u001b[1;33m(\u001b[0m\u001b[0mitem\u001b[0m\u001b[1;33m)\u001b[0m\u001b[1;33m:\u001b[0m\u001b[1;33m\u001b[0m\u001b[1;33m\u001b[0m\u001b[0m\n\u001b[1;32m-> 4115\u001b[1;33m                 \u001b[0mloc\u001b[0m \u001b[1;33m=\u001b[0m \u001b[0mself\u001b[0m\u001b[1;33m.\u001b[0m\u001b[0mitems\u001b[0m\u001b[1;33m.\u001b[0m\u001b[0mget_loc\u001b[0m\u001b[1;33m(\u001b[0m\u001b[0mitem\u001b[0m\u001b[1;33m)\u001b[0m\u001b[1;33m\u001b[0m\u001b[1;33m\u001b[0m\u001b[0m\n\u001b[0m\u001b[0;32m   4116\u001b[0m             \u001b[1;32melse\u001b[0m\u001b[1;33m:\u001b[0m\u001b[1;33m\u001b[0m\u001b[1;33m\u001b[0m\u001b[0m\n\u001b[0;32m   4117\u001b[0m                 \u001b[0mindexer\u001b[0m \u001b[1;33m=\u001b[0m \u001b[0mnp\u001b[0m\u001b[1;33m.\u001b[0m\u001b[0marange\u001b[0m\u001b[1;33m(\u001b[0m\u001b[0mlen\u001b[0m\u001b[1;33m(\u001b[0m\u001b[0mself\u001b[0m\u001b[1;33m.\u001b[0m\u001b[0mitems\u001b[0m\u001b[1;33m)\u001b[0m\u001b[1;33m)\u001b[0m\u001b[1;33m[\u001b[0m\u001b[0misna\u001b[0m\u001b[1;33m(\u001b[0m\u001b[0mself\u001b[0m\u001b[1;33m.\u001b[0m\u001b[0mitems\u001b[0m\u001b[1;33m)\u001b[0m\u001b[1;33m]\u001b[0m\u001b[1;33m\u001b[0m\u001b[1;33m\u001b[0m\u001b[0m\n",
      "\u001b[1;32mc:\\python_projects\\proje_1\\venv\\lib\\site-packages\\pandas\\core\\indexes\\base.py\u001b[0m in \u001b[0;36mget_loc\u001b[1;34m(self, key, method, tolerance)\u001b[0m\n\u001b[0;32m   3078\u001b[0m                 \u001b[1;32mreturn\u001b[0m \u001b[0mself\u001b[0m\u001b[1;33m.\u001b[0m\u001b[0m_engine\u001b[0m\u001b[1;33m.\u001b[0m\u001b[0mget_loc\u001b[0m\u001b[1;33m(\u001b[0m\u001b[0mkey\u001b[0m\u001b[1;33m)\u001b[0m\u001b[1;33m\u001b[0m\u001b[1;33m\u001b[0m\u001b[0m\n\u001b[0;32m   3079\u001b[0m             \u001b[1;32mexcept\u001b[0m \u001b[0mKeyError\u001b[0m\u001b[1;33m:\u001b[0m\u001b[1;33m\u001b[0m\u001b[1;33m\u001b[0m\u001b[0m\n\u001b[1;32m-> 3080\u001b[1;33m                 \u001b[1;32mreturn\u001b[0m \u001b[0mself\u001b[0m\u001b[1;33m.\u001b[0m\u001b[0m_engine\u001b[0m\u001b[1;33m.\u001b[0m\u001b[0mget_loc\u001b[0m\u001b[1;33m(\u001b[0m\u001b[0mself\u001b[0m\u001b[1;33m.\u001b[0m\u001b[0m_maybe_cast_indexer\u001b[0m\u001b[1;33m(\u001b[0m\u001b[0mkey\u001b[0m\u001b[1;33m)\u001b[0m\u001b[1;33m)\u001b[0m\u001b[1;33m\u001b[0m\u001b[1;33m\u001b[0m\u001b[0m\n\u001b[0m\u001b[0;32m   3081\u001b[0m \u001b[1;33m\u001b[0m\u001b[0m\n\u001b[0;32m   3082\u001b[0m         \u001b[0mindexer\u001b[0m \u001b[1;33m=\u001b[0m \u001b[0mself\u001b[0m\u001b[1;33m.\u001b[0m\u001b[0mget_indexer\u001b[0m\u001b[1;33m(\u001b[0m\u001b[1;33m[\u001b[0m\u001b[0mkey\u001b[0m\u001b[1;33m]\u001b[0m\u001b[1;33m,\u001b[0m \u001b[0mmethod\u001b[0m\u001b[1;33m=\u001b[0m\u001b[0mmethod\u001b[0m\u001b[1;33m,\u001b[0m \u001b[0mtolerance\u001b[0m\u001b[1;33m=\u001b[0m\u001b[0mtolerance\u001b[0m\u001b[1;33m)\u001b[0m\u001b[1;33m\u001b[0m\u001b[1;33m\u001b[0m\u001b[0m\n",
      "\u001b[1;32mpandas\\_libs\\index.pyx\u001b[0m in \u001b[0;36mpandas._libs.index.IndexEngine.get_loc\u001b[1;34m()\u001b[0m\n",
      "\u001b[1;32mpandas\\_libs\\index.pyx\u001b[0m in \u001b[0;36mpandas._libs.index.IndexEngine.get_loc\u001b[1;34m()\u001b[0m\n",
      "\u001b[1;32mpandas\\_libs\\hashtable_class_helper.pxi\u001b[0m in \u001b[0;36mpandas._libs.hashtable.PyObjectHashTable.get_item\u001b[1;34m()\u001b[0m\n",
      "\u001b[1;32mpandas\\_libs\\hashtable_class_helper.pxi\u001b[0m in \u001b[0;36mpandas._libs.hashtable.PyObjectHashTable.get_item\u001b[1;34m()\u001b[0m\n",
      "\u001b[1;31mKeyError\u001b[0m: (1, 0)"
     ]
    }
   ],
   "source": [
    "for i in range(1,5):\n",
    "    #All_companiesSum['CAGR']= pd.Series([(100*(All_companiesSum['ToplamUretim']-All_companiesSum['ToplamUretim'].shift(i)))/All_companiesSum['ToplamUretim']], index=All_companiesSum.index)\n",
    "    print((100*(All_companiesSum.iloc[i,0]-All_companiesSum.iloc[(i-1),0])/All_companiesSum[i,0]))"
   ]
  },
  {
   "cell_type": "code",
   "execution_count": 20,
   "metadata": {},
   "outputs": [
    {
     "name": "stdout",
     "output_type": "stream",
     "text": [
      "14.000495718813507\n",
      "24.66825473649802\n",
      "12.56249242419682\n",
      "12.831061454467592\n"
     ]
    }
   ],
   "source": [
    "for i in range(1,5):\n",
    "    #All_companiesSum['CAGR']= pd.Series([(100*(All_companiesSum['ToplamUretim']-All_companiesSum['ToplamUretim'].shift(i)))/All_companiesSum['ToplamUretim']], index=All_companiesSum.index)\n",
    "    print((100*(All_companiesSum.iloc[i,0]-All_companiesSum.iloc[(i-1),0]))/(All_companiesSum.iloc[i,0]))"
   ]
  },
  {
   "cell_type": "code",
   "execution_count": 1,
   "metadata": {},
   "outputs": [
    {
     "ename": "NameError",
     "evalue": "name 'ExponentialSmoothing' is not defined",
     "output_type": "error",
     "traceback": [
      "\u001b[1;31m---------------------------------------------------------------------------\u001b[0m",
      "\u001b[1;31mNameError\u001b[0m                                 Traceback (most recent call last)",
      "\u001b[1;32m<ipython-input-1-fef842c56f45>\u001b[0m in \u001b[0;36m<module>\u001b[1;34m\u001b[0m\n\u001b[0;32m      1\u001b[0m \u001b[1;31m#HOLT WINTER'S METHOD ALLIANZ MARKET SHARE\u001b[0m\u001b[1;33m\u001b[0m\u001b[1;33m\u001b[0m\u001b[1;33m\u001b[0m\u001b[0m\n\u001b[0;32m      2\u001b[0m \u001b[1;33m\u001b[0m\u001b[0m\n\u001b[1;32m----> 3\u001b[1;33m \u001b[0mets_stl\u001b[0m \u001b[1;33m=\u001b[0m \u001b[0mExponentialSmoothing\u001b[0m\u001b[1;33m(\u001b[0m\u001b[1;33m(\u001b[0m\u001b[0mAllianz\u001b[0m\u001b[1;33m.\u001b[0m\u001b[0miloc\u001b[0m\u001b[1;33m[\u001b[0m\u001b[1;33m:\u001b[0m\u001b[1;33m,\u001b[0m \u001b[1;36m3\u001b[0m\u001b[1;33m]\u001b[0m\u001b[1;33m)\u001b[0m \u001b[1;33m,\u001b[0m\u001b[0mseasonal_periods\u001b[0m\u001b[1;33m=\u001b[0m\u001b[1;36m12\u001b[0m \u001b[1;33m,\u001b[0m\u001b[0mtrend\u001b[0m\u001b[1;33m=\u001b[0m\u001b[1;34m'add'\u001b[0m\u001b[1;33m,\u001b[0m \u001b[0mseasonal\u001b[0m\u001b[1;33m=\u001b[0m\u001b[1;34m'add'\u001b[0m\u001b[1;33m)\u001b[0m\u001b[1;33m.\u001b[0m\u001b[0mfit\u001b[0m\u001b[1;33m(\u001b[0m\u001b[1;33m)\u001b[0m\u001b[1;33m\u001b[0m\u001b[1;33m\u001b[0m\u001b[0m\n\u001b[0m\u001b[0;32m      4\u001b[0m \u001b[0mets_stl1\u001b[0m \u001b[1;33m=\u001b[0m \u001b[0mets_stl\u001b[0m\u001b[1;33m.\u001b[0m\u001b[0mforecast\u001b[0m\u001b[1;33m(\u001b[0m\u001b[1;36m12\u001b[0m\u001b[1;33m)\u001b[0m\u001b[1;33m\u001b[0m\u001b[1;33m\u001b[0m\u001b[0m\n\u001b[0;32m      5\u001b[0m \u001b[1;33m\u001b[0m\u001b[0m\n",
      "\u001b[1;31mNameError\u001b[0m: name 'ExponentialSmoothing' is not defined"
     ]
    }
   ],
   "source": [
    "#HOLT WINTER'S METHOD ALLIANZ MARKET SHARE\n",
    "\n",
    "ets_stl = ExponentialSmoothing((Allianz.iloc[:, 3]) ,seasonal_periods=12 ,trend='add', seasonal='add').fit()\n",
    "ets_stl1 = ets_stl.forecast(12)\n",
    "\n",
    "Allianz.iloc[:, 3].plot(kind=\"line\",figsize=(10,5),legend=True)\n",
    "ets_stl1.plot(kind=\"line\",figsize=(10,5),color='orange',legend=True,label='MarketShare pred')\n",
    "plt.show()"
   ]
  },
  {
   "cell_type": "code",
   "execution_count": null,
   "metadata": {},
   "outputs": [],
   "source": []
  }
 ],
 "metadata": {
  "kernelspec": {
   "display_name": "Python 3",
   "language": "python",
   "name": "python3"
  },
  "language_info": {
   "codemirror_mode": {
    "name": "ipython",
    "version": 3
   },
   "file_extension": ".py",
   "mimetype": "text/x-python",
   "name": "python",
   "nbconvert_exporter": "python",
   "pygments_lexer": "ipython3",
   "version": "3.6.7"
  }
 },
 "nbformat": 4,
 "nbformat_minor": 2
}
